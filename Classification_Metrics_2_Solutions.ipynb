{
  "nbformat": 4,
  "nbformat_minor": 0,
  "metadata": {
    "anaconda-cloud": {},
    "celltoolbar": "Slideshow",
    "kernelspec": {
      "display_name": "Python 3",
      "language": "python",
      "name": "python3"
    },
    "language_info": {
      "codemirror_mode": {
        "name": "ipython",
        "version": 3
      },
      "file_extension": ".py",
      "mimetype": "text/x-python",
      "name": "python",
      "nbconvert_exporter": "python",
      "pygments_lexer": "ipython3",
      "version": "3.7.6"
    },
    "colab": {
      "name": "Classification Metrics 2 Solutions.ipynb",
      "provenance": [],
      "collapsed_sections": [],
      "include_colab_link": true
    }
  },
  "cells": [
    {
      "cell_type": "markdown",
      "metadata": {
        "id": "view-in-github",
        "colab_type": "text"
      },
      "source": [
        "<a href=\"https://colab.research.google.com/github/coding-dojo-data-science/machine-learning-practice-solutions/blob/main/Classification_Metrics_2_Solutions.ipynb\" target=\"_parent\"><img src=\"https://colab.research.google.com/assets/colab-badge.svg\" alt=\"Open In Colab\"/></a>"
      ]
    },
    {
      "cell_type": "markdown",
      "metadata": {
        "id": "38idX8Wk_xBV"
      },
      "source": [
        "<center>\n",
        "<img src=\"https://course_report_production.s3.amazonaws.com/rich/rich_files/rich_files/2470/s300/cd-logo-blue-600x600.png\" alt=\"Coding Dojo Logo\" class=\"center\" height=\"50\">\n",
        "\n",
        "# Classification Metrics - Solutions\n",
        "    \n",
        "</center>\n",
        "\n",
        "The data, which was modified from this source​, has information about direct marketing campaigns of a Portuguese banking institution. The marketing campaigns were based on phone calls. The goal is to predict if the client will subscribe (yes: 1 or no: 0) to a term deposit (the target column is called 'y_yes' in this csv).\n",
        "\n",
        "Your task is to build a logistic regression model to predict whether or not a client will subscribe. Tune the hyperparameters to get the best model possible. Then, calculate the following classification metrics:\n",
        "\n",
        "Metrics to calculate:\n",
        "- Accuracy\n",
        "- Sensitivity\n",
        "- Specificity\n",
        "- AUC ROC\n",
        "- Additionally, plot the ROC."
      ]
    },
    {
      "cell_type": "code",
      "metadata": {
        "colab": {
          "base_uri": "https://localhost:8080/"
        },
        "id": "a2wCMm5_000W",
        "outputId": "ad67fd72-75a0-4236-a892-9112861470bf"
      },
      "source": [
        "from google.colab import drive\n",
        "drive.mount('/content/drive')"
      ],
      "execution_count": null,
      "outputs": [
        {
          "output_type": "stream",
          "text": [
            "Mounted at /content/drive\n"
          ],
          "name": "stdout"
        }
      ]
    },
    {
      "cell_type": "code",
      "metadata": {
        "id": "ns1Jr_uPmyaf"
      },
      "source": [
        "# import libraries\n",
        "import matplotlib.pyplot as plt\n",
        "import seaborn as sns\n",
        "import pandas as pd\n",
        "import numpy as np\n",
        "from sklearn.model_selection import train_test_split, GridSearchCV\n",
        "from sklearn.preprocessing import StandardScaler\n",
        "# import models\n",
        "from sklearn.linear_model import LogisticRegression\n",
        "# import metrics\n",
        "from sklearn.metrics import accuracy_score, roc_auc_score, plot_confusion_matrix, plot_roc_curve, confusion_matrix"
      ],
      "execution_count": null,
      "outputs": []
    },
    {
      "cell_type": "code",
      "metadata": {
        "colab": {
          "base_uri": "https://localhost:8080/",
          "height": 241
        },
        "id": "r2mgKK_je369",
        "outputId": "0e5cce8b-c70a-403a-e434-4579cd14c7d1"
      },
      "source": [
        "# load the dataset\n",
        "\n",
        "df = pd.read_csv('/content/drive/My Drive/DS 12wk PT Curriculum/02: DS/3. Logistic Regression/data/bank_modified.csv')\n",
        "df.head()"
      ],
      "execution_count": null,
      "outputs": [
        {
          "output_type": "execute_result",
          "data": {
            "text/html": [
              "<div>\n",
              "<style scoped>\n",
              "    .dataframe tbody tr th:only-of-type {\n",
              "        vertical-align: middle;\n",
              "    }\n",
              "\n",
              "    .dataframe tbody tr th {\n",
              "        vertical-align: top;\n",
              "    }\n",
              "\n",
              "    .dataframe thead th {\n",
              "        text-align: right;\n",
              "    }\n",
              "</style>\n",
              "<table border=\"1\" class=\"dataframe\">\n",
              "  <thead>\n",
              "    <tr style=\"text-align: right;\">\n",
              "      <th></th>\n",
              "      <th>age</th>\n",
              "      <th>balance</th>\n",
              "      <th>duration</th>\n",
              "      <th>campaign</th>\n",
              "      <th>pdays</th>\n",
              "      <th>previous</th>\n",
              "      <th>job_blue-collar</th>\n",
              "      <th>job_entrepreneur</th>\n",
              "      <th>job_housemaid</th>\n",
              "      <th>job_management</th>\n",
              "      <th>job_retired</th>\n",
              "      <th>job_self-employed</th>\n",
              "      <th>job_services</th>\n",
              "      <th>job_student</th>\n",
              "      <th>job_technician</th>\n",
              "      <th>job_unemployed</th>\n",
              "      <th>job_unknown</th>\n",
              "      <th>marital_married</th>\n",
              "      <th>marital_single</th>\n",
              "      <th>education_secondary</th>\n",
              "      <th>education_tertiary</th>\n",
              "      <th>education_unknown</th>\n",
              "      <th>default_yes</th>\n",
              "      <th>housing_yes</th>\n",
              "      <th>loan_yes</th>\n",
              "      <th>y_yes</th>\n",
              "    </tr>\n",
              "  </thead>\n",
              "  <tbody>\n",
              "    <tr>\n",
              "      <th>0</th>\n",
              "      <td>30</td>\n",
              "      <td>1787</td>\n",
              "      <td>79</td>\n",
              "      <td>1</td>\n",
              "      <td>-1</td>\n",
              "      <td>0</td>\n",
              "      <td>0</td>\n",
              "      <td>0</td>\n",
              "      <td>0</td>\n",
              "      <td>0</td>\n",
              "      <td>0</td>\n",
              "      <td>0</td>\n",
              "      <td>0</td>\n",
              "      <td>0</td>\n",
              "      <td>0</td>\n",
              "      <td>1</td>\n",
              "      <td>0</td>\n",
              "      <td>1</td>\n",
              "      <td>0</td>\n",
              "      <td>0</td>\n",
              "      <td>0</td>\n",
              "      <td>0</td>\n",
              "      <td>0</td>\n",
              "      <td>0</td>\n",
              "      <td>0</td>\n",
              "      <td>0</td>\n",
              "    </tr>\n",
              "    <tr>\n",
              "      <th>1</th>\n",
              "      <td>33</td>\n",
              "      <td>4789</td>\n",
              "      <td>220</td>\n",
              "      <td>1</td>\n",
              "      <td>339</td>\n",
              "      <td>4</td>\n",
              "      <td>0</td>\n",
              "      <td>0</td>\n",
              "      <td>0</td>\n",
              "      <td>0</td>\n",
              "      <td>0</td>\n",
              "      <td>0</td>\n",
              "      <td>1</td>\n",
              "      <td>0</td>\n",
              "      <td>0</td>\n",
              "      <td>0</td>\n",
              "      <td>0</td>\n",
              "      <td>1</td>\n",
              "      <td>0</td>\n",
              "      <td>1</td>\n",
              "      <td>0</td>\n",
              "      <td>0</td>\n",
              "      <td>0</td>\n",
              "      <td>1</td>\n",
              "      <td>1</td>\n",
              "      <td>0</td>\n",
              "    </tr>\n",
              "    <tr>\n",
              "      <th>2</th>\n",
              "      <td>35</td>\n",
              "      <td>1350</td>\n",
              "      <td>185</td>\n",
              "      <td>1</td>\n",
              "      <td>330</td>\n",
              "      <td>1</td>\n",
              "      <td>0</td>\n",
              "      <td>0</td>\n",
              "      <td>0</td>\n",
              "      <td>1</td>\n",
              "      <td>0</td>\n",
              "      <td>0</td>\n",
              "      <td>0</td>\n",
              "      <td>0</td>\n",
              "      <td>0</td>\n",
              "      <td>0</td>\n",
              "      <td>0</td>\n",
              "      <td>0</td>\n",
              "      <td>1</td>\n",
              "      <td>0</td>\n",
              "      <td>1</td>\n",
              "      <td>0</td>\n",
              "      <td>0</td>\n",
              "      <td>1</td>\n",
              "      <td>0</td>\n",
              "      <td>0</td>\n",
              "    </tr>\n",
              "    <tr>\n",
              "      <th>3</th>\n",
              "      <td>30</td>\n",
              "      <td>1476</td>\n",
              "      <td>199</td>\n",
              "      <td>4</td>\n",
              "      <td>-1</td>\n",
              "      <td>0</td>\n",
              "      <td>0</td>\n",
              "      <td>0</td>\n",
              "      <td>0</td>\n",
              "      <td>1</td>\n",
              "      <td>0</td>\n",
              "      <td>0</td>\n",
              "      <td>0</td>\n",
              "      <td>0</td>\n",
              "      <td>0</td>\n",
              "      <td>0</td>\n",
              "      <td>0</td>\n",
              "      <td>1</td>\n",
              "      <td>0</td>\n",
              "      <td>0</td>\n",
              "      <td>1</td>\n",
              "      <td>0</td>\n",
              "      <td>0</td>\n",
              "      <td>1</td>\n",
              "      <td>1</td>\n",
              "      <td>0</td>\n",
              "    </tr>\n",
              "    <tr>\n",
              "      <th>4</th>\n",
              "      <td>59</td>\n",
              "      <td>0</td>\n",
              "      <td>226</td>\n",
              "      <td>1</td>\n",
              "      <td>-1</td>\n",
              "      <td>0</td>\n",
              "      <td>1</td>\n",
              "      <td>0</td>\n",
              "      <td>0</td>\n",
              "      <td>0</td>\n",
              "      <td>0</td>\n",
              "      <td>0</td>\n",
              "      <td>0</td>\n",
              "      <td>0</td>\n",
              "      <td>0</td>\n",
              "      <td>0</td>\n",
              "      <td>0</td>\n",
              "      <td>1</td>\n",
              "      <td>0</td>\n",
              "      <td>1</td>\n",
              "      <td>0</td>\n",
              "      <td>0</td>\n",
              "      <td>0</td>\n",
              "      <td>1</td>\n",
              "      <td>0</td>\n",
              "      <td>0</td>\n",
              "    </tr>\n",
              "  </tbody>\n",
              "</table>\n",
              "</div>"
            ],
            "text/plain": [
              "   age  balance  duration  campaign  ...  default_yes  housing_yes  loan_yes  y_yes\n",
              "0   30     1787        79         1  ...            0            0         0      0\n",
              "1   33     4789       220         1  ...            0            1         1      0\n",
              "2   35     1350       185         1  ...            0            1         0      0\n",
              "3   30     1476       199         4  ...            0            1         1      0\n",
              "4   59        0       226         1  ...            0            1         0      0\n",
              "\n",
              "[5 rows x 26 columns]"
            ]
          },
          "metadata": {
            "tags": []
          },
          "execution_count": 25
        }
      ]
    },
    {
      "cell_type": "code",
      "metadata": {
        "colab": {
          "base_uri": "https://localhost:8080/"
        },
        "id": "EDB44lPxqUnP",
        "outputId": "45508d9f-f1c7-43f0-ed0a-010230d9df69"
      },
      "source": [
        "# see distribution of target\n",
        "df['y_yes'].value_counts(normalize = True)"
      ],
      "execution_count": null,
      "outputs": [
        {
          "output_type": "execute_result",
          "data": {
            "text/plain": [
              "0    0.88476\n",
              "1    0.11524\n",
              "Name: y_yes, dtype: float64"
            ]
          },
          "metadata": {
            "tags": []
          },
          "execution_count": 54
        }
      ]
    },
    {
      "cell_type": "markdown",
      "metadata": {
        "id": "fKB0YnWmxUgc"
      },
      "source": [
        "## Logistic Regression"
      ]
    },
    {
      "cell_type": "code",
      "metadata": {
        "id": "dyFMNhr8xZjH"
      },
      "source": [
        "# Arrange data into features matrix & target vector\n",
        "X = df.drop(columns = 'y_yes')\n",
        "y = df['y_yes']"
      ],
      "execution_count": null,
      "outputs": []
    },
    {
      "cell_type": "code",
      "metadata": {
        "id": "UU0aD5KDqoAC"
      },
      "source": [
        "# train test split\n",
        "X_train, X_test, y_train, y_test = train_test_split(X,\n",
        "                                                   y,\n",
        "                                                   test_size=0.3, \n",
        "                                                   random_state=0, \n",
        "                                                   stratify=y)"
      ],
      "execution_count": null,
      "outputs": []
    },
    {
      "cell_type": "markdown",
      "metadata": {
        "id": "TBd9rtS27cAe"
      },
      "source": [
        "Let's look at the distribution of our target variable for our testing set. Note: this is our baseline model! If we predicted everything to be in our majority class (in this case, 0), what percent would be get correct?\n",
        "\n",
        "If we predict everything to be a 0, we would get 88.5% accuracy. That means that we need to get better than 88.5% accuracy to have a decent model.\n",
        "\n"
      ]
    },
    {
      "cell_type": "code",
      "metadata": {
        "colab": {
          "base_uri": "https://localhost:8080/"
        },
        "id": "FBdqubdw7Xrv",
        "outputId": "f7374e6b-8bba-406c-a936-5922430ba00a"
      },
      "source": [
        "# baseline model\n",
        "y_test.value_counts(normalize = True)"
      ],
      "execution_count": null,
      "outputs": [
        {
          "output_type": "execute_result",
          "data": {
            "text/plain": [
              "0    0.885041\n",
              "1    0.114959\n",
              "Name: y_yes, dtype: float64"
            ]
          },
          "metadata": {
            "tags": []
          },
          "execution_count": 56
        }
      ]
    },
    {
      "cell_type": "code",
      "metadata": {
        "id": "jFv5RgtIxajI"
      },
      "source": [
        "# Standardize Data\n",
        "scaler = StandardScaler()\n",
        "# Fit on training set only.\n",
        "scaler.fit(X_train)\n",
        "# Apply transform to both the training set and the test set.\n",
        "X_train = scaler.transform(X_train)\n",
        "X_test = scaler.transform(X_test)"
      ],
      "execution_count": null,
      "outputs": []
    },
    {
      "cell_type": "code",
      "metadata": {
        "id": "vQ7B9znS5KTj"
      },
      "source": [
        "# I'm going to use gridsearch to find the best hyperparameters for this model\n",
        "# Feel free to research this on your own to learn more about this technique\n",
        "params = {'penalty': ['l1', 'l2'],\n",
        "          'C': [0.0001, 0.001, 0.01],\n",
        "          'class_weight': [None, 'balanced']}"
      ],
      "execution_count": null,
      "outputs": []
    },
    {
      "cell_type": "code",
      "metadata": {
        "colab": {
          "base_uri": "https://localhost:8080/"
        },
        "id": "7wRo_a9PyJ4V",
        "outputId": "ceac4fc0-bb57-4781-c347-78f08bd75a97"
      },
      "source": [
        "# logistic regression \n",
        "log_reg = LogisticRegression(solver = 'liblinear')\n",
        "\n",
        "# grid search to find best hyperparameters\n",
        "gs = GridSearchCV(log_reg, params, cv = 5)\n",
        "gs.fit(X_train, y_train)"
      ],
      "execution_count": null,
      "outputs": [
        {
          "output_type": "execute_result",
          "data": {
            "text/plain": [
              "GridSearchCV(cv=5, error_score=nan,\n",
              "             estimator=LogisticRegression(C=1.0, class_weight=None, dual=False,\n",
              "                                          fit_intercept=True,\n",
              "                                          intercept_scaling=1, l1_ratio=None,\n",
              "                                          max_iter=100, multi_class='auto',\n",
              "                                          n_jobs=None, penalty='l2',\n",
              "                                          random_state=None, solver='liblinear',\n",
              "                                          tol=0.0001, verbose=0,\n",
              "                                          warm_start=False),\n",
              "             iid='deprecated', n_jobs=None,\n",
              "             param_grid={'C': [0.0001, 0.001, 0.01],\n",
              "                         'class_weight': [None, 'balanced'],\n",
              "                         'penalty': ['l1', 'l2']},\n",
              "             pre_dispatch='2*n_jobs', refit=True, return_train_score=False,\n",
              "             scoring=None, verbose=0)"
            ]
          },
          "metadata": {
            "tags": []
          },
          "execution_count": 46
        }
      ]
    },
    {
      "cell_type": "code",
      "metadata": {
        "colab": {
          "base_uri": "https://localhost:8080/"
        },
        "id": "7wRGSrST6AlQ",
        "outputId": "ff730d9f-c264-4f66-c444-7b012faecbcb"
      },
      "source": [
        "# here are the best hyperparameters based on the ones I tried\n",
        "gs.best_estimator_"
      ],
      "execution_count": null,
      "outputs": [
        {
          "output_type": "execute_result",
          "data": {
            "text/plain": [
              "LogisticRegression(C=0.01, class_weight=None, dual=False, fit_intercept=True,\n",
              "                   intercept_scaling=1, l1_ratio=None, max_iter=100,\n",
              "                   multi_class='auto', n_jobs=None, penalty='l2',\n",
              "                   random_state=None, solver='liblinear', tol=0.0001, verbose=0,\n",
              "                   warm_start=False)"
            ]
          },
          "metadata": {
            "tags": []
          },
          "execution_count": 48
        }
      ]
    },
    {
      "cell_type": "code",
      "metadata": {
        "colab": {
          "base_uri": "https://localhost:8080/"
        },
        "id": "A_GiXDm033bm",
        "outputId": "3f579303-063a-4cc8-a920-cea31217746c"
      },
      "source": [
        "# Accuracy:\n",
        "print('Training accuracy:', gs.score(X_train, y_train))\n",
        "print('Test accuracy:', gs.score(X_test, y_test))"
      ],
      "execution_count": null,
      "outputs": [
        {
          "output_type": "stream",
          "text": [
            "Training accuracy: 0.8922250316055625\n",
            "Test accuracy: 0.8872512896094326\n"
          ],
          "name": "stdout"
        }
      ]
    },
    {
      "cell_type": "code",
      "metadata": {
        "id": "0BL7MyDo5ucy"
      },
      "source": [
        "# save predictions\n",
        "preds = gs.predict(X_test)"
      ],
      "execution_count": null,
      "outputs": []
    },
    {
      "cell_type": "code",
      "metadata": {
        "colab": {
          "base_uri": "https://localhost:8080/",
          "height": 279
        },
        "id": "ud5P_MG74yZv",
        "outputId": "2c981f8d-495f-4be0-f36a-68378af36b6d"
      },
      "source": [
        "plot_confusion_matrix(gs, X_test, y_test,\n",
        "                      cmap = 'Blues',\n",
        "                      values_format = 'd');"
      ],
      "execution_count": null,
      "outputs": [
        {
          "output_type": "display_data",
          "data": {
            "image/png": "[encoded data removed]",
            "text/plain": [
              "<Figure size 432x288 with 2 Axes>"
            ]
          },
          "metadata": {
            "tags": [],
            "needs_background": "light"
          }
        }
      ]
    },
    {
      "cell_type": "code",
      "metadata": {
        "colab": {
          "base_uri": "https://localhost:8080/"
        },
        "id": "ySbsSqgR33Ym",
        "outputId": "18540b9f-26cb-4aa1-dd67-d7ff1d817f78"
      },
      "source": [
        "# Sensitivity:\n",
        "\n",
        "# Save confusion matrix:\n",
        "tn, fp, fn, tp = confusion_matrix(y_test, preds).ravel()\n",
        "\n",
        "sensitivity = tp/ (tp + fn)\n",
        "\n",
        "print('Sensitivity:', sensitivity)"
      ],
      "execution_count": null,
      "outputs": [
        {
          "output_type": "stream",
          "text": [
            "Sensitivity: 0.14743589743589744\n"
          ],
          "name": "stdout"
        }
      ]
    },
    {
      "cell_type": "code",
      "metadata": {
        "colab": {
          "base_uri": "https://localhost:8080/"
        },
        "id": "ih23ZVIu33OJ",
        "outputId": "781c51e1-7818-40bd-b14e-69a02b27fa15"
      },
      "source": [
        "# Specificity:\n",
        "specificity = tn / (tn + fp)\n",
        "\n",
        "print('Specificity:', specificity)"
      ],
      "execution_count": null,
      "outputs": [
        {
          "output_type": "stream",
          "text": [
            "Specificity: 0.9833472106577852\n"
          ],
          "name": "stdout"
        }
      ]
    },
    {
      "cell_type": "code",
      "metadata": {
        "colab": {
          "base_uri": "https://localhost:8080/"
        },
        "id": "BYqG_pxa4ZLs",
        "outputId": "837452bd-a590-4136-fbf5-870c227fbee6"
      },
      "source": [
        "# AUC ROC\n",
        "print('AUC ROC:', roc_auc_score(y_test, gs.predict_proba(X_test)[:,1]))"
      ],
      "execution_count": null,
      "outputs": [
        {
          "output_type": "stream",
          "text": [
            "AUC ROC: 0.843367706398514\n"
          ],
          "name": "stdout"
        }
      ]
    },
    {
      "cell_type": "code",
      "metadata": {
        "colab": {
          "base_uri": "https://localhost:8080/",
          "height": 279
        },
        "id": "ETozmG7F4ZIW",
        "outputId": "5816951d-6a1b-4cf5-9048-e222b5629884"
      },
      "source": [
        "# Plot ROC curve\n",
        "plot_roc_curve(gs, X_test, y_test);"
      ],
      "execution_count": null,
      "outputs": [
        {
          "output_type": "display_data",
          "data": {
            "image/png": "[encoded data removed]",
            "text/plain": [
              "<Figure size 432x288 with 1 Axes>"
            ]
          },
          "metadata": {
            "tags": [],
            "needs_background": "light"
          }
        }
      ]
    },
    {
      "cell_type": "markdown",
      "metadata": {
        "id": "-4fNB2F8ynN2"
      },
      "source": [
        "After you have completed the two tasks, answer the following questions. \n",
        "\n",
        "1. Which metric is going to be best to evaluate your classification models for this dataset and why? \n",
        "2. Compare your model's accuracy with the baseline model. Do you see any problems here?\n",
        "3. What are other ways you could improve this model?"
      ]
    },
    {
      "cell_type": "markdown",
      "metadata": {
        "id": "TwLkZZoUyrWu"
      },
      "source": [
        "**1. Which metric is going to be best to evaluate your classification models for this dataset and why?**\n",
        "\n",
        "It depends on the bank's goal. Overall, it is probably not the best idea to use accuracy as the evaluation metric for this task. The reason for this is because the data is super imbalanced. If I just predict that every customer will not subscribe, I will get 88.5% of the predictions correct. However, this is not at all helpful to the bank!  \n",
        "\n",
        "Let's talk about sensitivity and specificity for this task. \n",
        "\n",
        "Sensitivity (the true positive rate) describes the percentage of customers that do subscribe that we correctly predicted would subscribe.\n",
        "- high sensitivity = correctly predicting people that do subscribe\n",
        "- low sensitivity = predicting people will not subscribe when they will  \n",
        "\n",
        "A low sensitivity means we could potentially be missing out on customers who actually will subscribe but we predict they will not subscribe.\n",
        "\n",
        "Specificity (the true negative rate) describes the percentage of customers that do not subscribe that we correctly predicted would not subscribe. \n",
        "- high specificity = correctly predicting people that do not subscribe\n",
        "- low specificity = predicting people will subscribe when they do not\n",
        "\n",
        "A low specificity means we could potentially be wasting marketing materials by marketing to people we predict will subscribe but they actually do not.\n",
        "\n",
        "Because of this, the metric to optimize for depends on the bank's goal. We probably do not want to overlook customers that will end up subscribing, so optimizing for sensitivity makes sense in this case."
      ]
    },
    {
      "cell_type": "markdown",
      "metadata": {
        "id": "Qspz4DkbyrN7"
      },
      "source": [
        "**2. Compare your model's accuracy with the baseline model. Do you see any problems here?**\n",
        "\n",
        "My model's testing accuracy was 88.7% (0.8872512896094326).\n",
        "\n",
        "The baseline accuracy was 88.5% (0.885041):"
      ]
    },
    {
      "cell_type": "code",
      "metadata": {
        "colab": {
          "base_uri": "https://localhost:8080/"
        },
        "id": "z4-5tE0UujNj",
        "outputId": "4c33377e-cc53-4b9b-9c51-9e2323c1ea6a"
      },
      "source": [
        "y_test.value_counts(normalize = True)"
      ],
      "execution_count": null,
      "outputs": [
        {
          "output_type": "execute_result",
          "data": {
            "text/plain": [
              "0    0.885041\n",
              "1    0.114959\n",
              "Name: y_yes, dtype: float64"
            ]
          },
          "metadata": {
            "tags": []
          },
          "execution_count": 57
        }
      ]
    },
    {
      "cell_type": "markdown",
      "metadata": {
        "id": "pBMK6vA4A5xY"
      },
      "source": [
        "This is not a great model because it is only slightly beating the baseline model!"
      ]
    },
    {
      "cell_type": "markdown",
      "metadata": {
        "id": "EjwfCxiyvbrG"
      },
      "source": [
        "**3. What are other ways you could improve this model?**\n",
        "\n",
        "The main problem with this dataset is that it is super imbalanced. There are many techniques for dealing with imbalanced data that I encourage you to research on your own! Some techniques include:\n",
        "- Optimize for a different metric when fitting the model\n",
        "- Try a different algorithm\n",
        "- Over or under sample the dataset to try to balance the target more\n",
        "- use an algorithm like SMOTE"
      ]
    },
    {
      "cell_type": "code",
      "metadata": {
        "id": "tEkNii3VuIZv"
      },
      "source": [
        ""
      ],
      "execution_count": null,
      "outputs": []
    }
  ]
}