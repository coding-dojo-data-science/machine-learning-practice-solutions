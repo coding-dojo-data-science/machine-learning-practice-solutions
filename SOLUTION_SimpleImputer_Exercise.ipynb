{
  "nbformat": 4,
  "nbformat_minor": 0,
  "metadata": {
    "colab": {
      "provenance": [],
      "toc_visible": true,
      "include_colab_link": true
    },
    "kernelspec": {
      "name": "python3",
      "display_name": "Python 3"
    },
    "language_info": {
      "name": "python"
    }
  },
  "cells": [
    {
      "cell_type": "markdown",
      "metadata": {
        "id": "view-in-github",
        "colab_type": "text"
      },
      "source": [
        "<a href=\"https://colab.research.google.com/github/coding-dojo-data-science/machine-learning-practice-solutions/blob/main/SOLUTION_SimpleImputer_Exercise.ipynb\" target=\"_parent\"><img src=\"https://colab.research.google.com/assets/colab-badge.svg\" alt=\"Open In Colab\"/></a>"
      ]
    },
    {
      "cell_type": "markdown",
      "metadata": {
        "id": "Cl32NHGO0ufG"
      },
      "source": [
        "# Week 5 - SimpleImputer Exercise - Solution"
      ]
    },
    {
      "cell_type": "markdown",
      "source": [
        "> [Click here](#new) to jump to new assignment's solution."
      ],
      "metadata": {
        "id": "m2c4EjYHmxdm"
      }
    },
    {
      "cell_type": "markdown",
      "source": [
        "# Work from Previous Practice Assignment"
      ],
      "metadata": {
        "id": "Tgea-CsUmd93"
      }
    },
    {
      "cell_type": "markdown",
      "source": [
        "## EDA Functions"
      ],
      "metadata": {
        "id": "2ISrS8SJ2rIj"
      }
    },
    {
      "cell_type": "code",
      "source": [
        "\"\"\"UNIVARIATE PLOTTING FUNCTIONS FOR EDA\"\"\"\n",
        "# Add the print statements to the function\n",
        "def explore_categorical(df, x, fillna = True, placeholder = 'MISSING',\n",
        "                        figsize = (6,4), order = None):\n",
        "  \"\"\"Creates a seaborn countplot with the option to temporarily fill missing values\n",
        "  Prints statements about null values, cardinality, and checks for\n",
        "  constant/quasi-constant features.\n",
        "  Source:{PASTE IN FINAL LESSON LINK}\n",
        "  \"\"\"\n",
        "  # Make a copy of the dataframe and fillna \n",
        "  temp_df = df.copy()\n",
        "  # Before filling nulls, save null value counts and percent for printing \n",
        "  null_count = temp_df[x].isna().sum()\n",
        "  null_perc = null_count/len(temp_df)* 100\n",
        "  # fillna with placeholder\n",
        "  if fillna == True:\n",
        "    temp_df[x] = temp_df[x].fillna(placeholder)\n",
        "  # Create figure with desired figsize\n",
        "  fig, ax = plt.subplots(figsize=figsize)\n",
        "  # Plotting a count plot \n",
        "  sns.countplot(data=temp_df, x=x, ax=ax, order=order)\n",
        "  # Rotate Tick Labels for long names\n",
        "  ax.set_xticklabels(ax.get_xticklabels(), rotation=45, ha='right')\n",
        "  # Add a title with the feature name included\n",
        "  ax.set_title(f\"Column: {x}\", fontweight='bold')\n",
        "  \n",
        "  # Fix layout and show plot (before print statements)\n",
        "  fig.tight_layout()\n",
        "  plt.show()\n",
        "      \n",
        "  # Print null value info\n",
        "  print(f\"- NaN's Found: {null_count} ({round(null_perc,2)}%)\")\n",
        "  # Print cardinality info\n",
        "  nunique = temp_df[x].nunique()\n",
        "  print(f\"- Unique Values: {nunique}\")\n",
        "  # First find value counts of feature\n",
        "  val_counts = temp_df[x].value_counts(dropna=False)\n",
        "  # Define the most common value\n",
        "  most_common_val = val_counts.index[0]\n",
        "  # Define the frequency of the most common value\n",
        "  freq = val_counts.values[0]\n",
        "  # Calculate the percentage of the most common value\n",
        "  perc_most_common = freq / len(temp_df) * 100\n",
        "  # Print the results\n",
        "  print(f\"- Most common value: '{most_common_val}' occurs {freq} times ({round(perc_most_common,2)}%)\")\n",
        "  # print message if quasi-constant or constant (most common val more than 98% of data)\n",
        "  if perc_most_common > 98:\n",
        "    print(f\"\\n- [!] Warning: '{x}' is a constant or quasi-constant feature and should be dropped.\")\n",
        "  else:\n",
        "    print(\"- Not constant or quasi-constant.\")\n",
        "  return fig, ax\n",
        "\n",
        "\n",
        "# TO DO: add the new print statements from explore_categorical\n",
        "def explore_numeric(df, x, figsize=(6,5) ):\n",
        "  \"\"\"Creates a seaborn histplot and boxplot with a share x-axis,\n",
        "  Prints statements about null values, cardinality, and checks for\n",
        "  constant/quasi-constant features.\n",
        "  Source:{PASTE IN FINAL LESSON LINK}\n",
        "  \"\"\"\n",
        "  \n",
        "  ## Save null value counts and percent for printing \n",
        "  null_count = df[x].isna().sum()\n",
        "  null_perc = null_count/len(df)* 100\n",
        "\n",
        "\n",
        "  ## Making our figure with gridspec for subplots\n",
        "  gridspec = {'height_ratios':[0.7,0.3]}\n",
        "  fig, axes = plt.subplots(nrows=2, figsize=figsize,\n",
        "                           sharex=True, gridspec_kw=gridspec)\n",
        "  # Histogram on Top\n",
        "  sns.histplot(data=df, x=x, ax=axes[0])\n",
        "\n",
        "  # Boxplot on Bottom\n",
        "  sns.boxplot(data=df, x=x, ax=axes[1])\n",
        "\n",
        "  ## Adding a title\n",
        "  axes[0].set_title(f\"Column: {x}\", fontweight='bold')\n",
        "\n",
        "  ## Adjusting subplots to best fill Figure\n",
        "  fig.tight_layout()\n",
        "  \n",
        "  # Ensure plot is shown before message\n",
        "  plt.show()\n",
        "\n",
        "\n",
        "  # Print null value info\n",
        "  print(f\"- NaN's Found: {null_count} ({round(null_perc,2)}%)\")\n",
        "  # Print cardinality info\n",
        "  nunique = df[x].nunique()\n",
        "  print(f\"- Unique Values: {nunique}\")\n",
        "\n",
        "\n",
        "  # Get the most most common value, its count as # and as %\n",
        "  most_common_val_count = df[x].value_counts(dropna=False).head(1)\n",
        "  most_common_val = most_common_val_count.index[0]\n",
        "  freq = most_common_val_count.values[0]\n",
        "  perc_most_common = freq / len(df) * 100\n",
        "  \n",
        "  print(f\"- Most common value: '{most_common_val}' occurs {freq} times ({round(perc_most_common,2)}%)\")\n",
        "\n",
        "  # print message if quasi-constant or constant (most common val more than 98% of data)\n",
        "  if perc_most_common > 98:\n",
        "    print(f\"\\n- [!] Warning: '{x}' is a constant or quasi-constant feature and should be dropped.\")\n",
        "  else:\n",
        "    print(\"- Not constant or quasi-constant.\")\n",
        "  return fig, axes\n",
        "  "
      ],
      "metadata": {
        "id": "95io6Z7A2s1H"
      },
      "execution_count": null,
      "outputs": []
    },
    {
      "cell_type": "code",
      "source": [
        "\"\"\"MULTIVARIATE PLOTTING FUNCTIONS VS. NUMERIC TARGET\"\"\"\n",
        "\n",
        "def plot_categorical_vs_target(df, x, y='rating',figsize=(6,4),\n",
        "                            fillna = True, placeholder = 'MISSING',\n",
        "                            order = None):\n",
        "  \"\"\"Plots a combination of a seaborn barplot of means combined with\n",
        "  a seaborn stripplot to show the spread of the data.\n",
        "  Source:{PASTE IN FINAL LESSON LINK}\n",
        "  \"\"\"\n",
        "  # Make a copy of the dataframe and fillna \n",
        "  temp_df = df.copy()\n",
        "  # fillna with placeholder\n",
        "  if fillna == True:\n",
        "    temp_df[x] = temp_df[x].fillna(placeholder)\n",
        "  \n",
        "  # or drop nulls prevent unwanted 'nan' group in stripplot\n",
        "  else:\n",
        "    temp_df = temp_df.dropna(subset=[x]) \n",
        "  # Create the figure and subplots\n",
        "  fig, ax = plt.subplots(figsize=figsize)\n",
        "  \n",
        "    # Barplot \n",
        "  sns.barplot(data=temp_df, x=x, y=y, ax=ax, order=order, alpha=0.6,\n",
        "              linewidth=1, edgecolor='black', errorbar=None)\n",
        "  \n",
        "  # Boxplot\n",
        "  sns.stripplot(data=temp_df, x=x, y=y, hue=x, ax=ax, \n",
        "                order=order, hue_order=order, legend=False,\n",
        "                edgecolor='white', linewidth=0.5,\n",
        "                size=3,zorder=0)\n",
        "  # Rotate xlabels\n",
        "  ax.set_xticklabels(ax.get_xticklabels(), rotation=45, ha='right')\n",
        "  \n",
        "  # Add a title\n",
        "  ax.set_title(f\"{x} vs. {y}\", fontweight='bold')\n",
        "  fig.tight_layout()\n",
        "  return fig, ax\n",
        "\n",
        "\n",
        "def plot_numeric_vs_target(df, x, y='rating',\n",
        "                           figsize=(6,4), \n",
        "                           ):\n",
        "  \"\"\"Plots a seaborn regplot with Pearson's correlation (r) added \n",
        "  to the title.\n",
        "  Source:{PASTE IN FINAL LESSON LINK}\n",
        "  \"\"\"\n",
        "  # Calculate the correlation\n",
        "  corr = df[[x,y]].corr().round(2)\n",
        "  r = corr.loc[x,y]\n",
        "\n",
        "  # Plot the data\n",
        "  fig, ax = plt.subplots(figsize=figsize)\n",
        "  scatter_kws={'ec':'white','lw':1,'alpha':0.8}\n",
        "  sns.regplot(data=df, x=x, y=y, ax=ax, scatter_kws=scatter_kws)\n",
        "\n",
        "  ## Add the title with the correlation\n",
        "  ax.set_title(f\"{x} vs. {y} (r = {r})\", fontweight='bold')\n",
        "\n",
        "  # Make sure the plot is shown before the print statement\n",
        "  plt.show()\n",
        "\n",
        "  return fig, ax"
      ],
      "metadata": {
        "id": "j2ko2I5u9cdA"
      },
      "execution_count": null,
      "outputs": []
    },
    {
      "cell_type": "markdown",
      "source": [
        "## Load the Data"
      ],
      "metadata": {
        "id": "VO3WC3Sng0dq"
      }
    },
    {
      "cell_type": "code",
      "source": [
        "# from google.colab import drive\n",
        "# drive.mount('/content/drive')"
      ],
      "metadata": {
        "id": "WuXveNgP1cSc"
      },
      "execution_count": null,
      "outputs": []
    },
    {
      "cell_type": "code",
      "source": [
        "import pandas as pd\n",
        "import seaborn as sns\n",
        "import matplotlib.pyplot as plt\n",
        "import pandas as pd\n",
        "\n",
        "### LOAD DATASET FROM GOOGLE DRIVE OR URL\n",
        "# load data \n",
        "path = \"https://docs.google.com/spreadsheets/d/e/2PACX-1vSlxm22ftBEbkw8AS5NSzggxMWRLD_gxJ8o6RTZqdrTcQXcEt3EpsShuEBbSWDSmWgB_xLgSDn2fxDH/pub?output=csv\"\n",
        "df = pd.read_csv(path)\n",
        "df.info()\n",
        "df.head()"
      ],
      "metadata": {
        "colab": {
          "base_uri": "https://localhost:8080/",
          "height": 837
        },
        "id": "VH0UyDlt1a0r",
        "outputId": "acb9f03a-c9d9-4798-dbed-65f464f87b15"
      },
      "execution_count": null,
      "outputs": [
        {
          "output_type": "stream",
          "name": "stdout",
          "text": [
            "<class 'pandas.core.frame.DataFrame'>\n",
            "RangeIndex: 77 entries, 0 to 76\n",
            "Data columns (total 16 columns):\n",
            " #   Column    Non-Null Count  Dtype  \n",
            "---  ------    --------------  -----  \n",
            " 0   name      77 non-null     object \n",
            " 1   mfr       75 non-null     object \n",
            " 2   type      77 non-null     object \n",
            " 3   calories  72 non-null     float64\n",
            " 4   protein   77 non-null     int64  \n",
            " 5   fat       70 non-null     float64\n",
            " 6   sodium    77 non-null     int64  \n",
            " 7   fiber     71 non-null     float64\n",
            " 8   carbo     77 non-null     float64\n",
            " 9   sugars    71 non-null     float64\n",
            " 10  potass    77 non-null     int64  \n",
            " 11  vitamins  77 non-null     int64  \n",
            " 12  shelf     75 non-null     object \n",
            " 13  weight    77 non-null     float64\n",
            " 14  cups      77 non-null     float64\n",
            " 15  rating    77 non-null     float64\n",
            "dtypes: float64(8), int64(4), object(4)\n",
            "memory usage: 9.8+ KB\n"
          ]
        },
        {
          "output_type": "execute_result",
          "data": {
            "text/plain": [
              "                        name mfr type  calories  protein  fat  sodium  fiber  \\\n",
              "0                  100% Bran   N    C       NaN        4  1.0     130   10.0   \n",
              "1          100% Natural Bran   Q    C     120.0        3  5.0      15    2.0   \n",
              "2                   All-Bran   K    C      70.0        4  1.0     260    9.0   \n",
              "3  All-Bran with Extra Fiber   K    C      50.0        4  0.0     140   14.0   \n",
              "4             Almond Delight   R    C       NaN        2  2.0     200    1.0   \n",
              "\n",
              "   carbo  sugars  potass  vitamins shelf  weight  cups     rating  \n",
              "0    5.0     6.0     280        25   top     1.0  0.33  68.402973  \n",
              "1    8.0     8.0     135         0   top     1.0  1.00  33.983679  \n",
              "2    7.0     5.0     320        25   top     1.0  0.33  59.425505  \n",
              "3    8.0     0.0     330        25   top     1.0  0.50  93.704912  \n",
              "4   14.0     8.0      -1        25   NaN     1.0  0.75  34.384843  "
            ],
            "text/html": [
              "\n",
              "  <div id=\"df-10767c95-046f-4268-bc5f-e4655af87336\">\n",
              "    <div class=\"colab-df-container\">\n",
              "      <div>\n",
              "<style scoped>\n",
              "    .dataframe tbody tr th:only-of-type {\n",
              "        vertical-align: middle;\n",
              "    }\n",
              "\n",
              "    .dataframe tbody tr th {\n",
              "        vertical-align: top;\n",
              "    }\n",
              "\n",
              "    .dataframe thead th {\n",
              "        text-align: right;\n",
              "    }\n",
              "</style>\n",
              "<table border=\"1\" class=\"dataframe\">\n",
              "  <thead>\n",
              "    <tr style=\"text-align: right;\">\n",
              "      <th></th>\n",
              "      <th>name</th>\n",
              "      <th>mfr</th>\n",
              "      <th>type</th>\n",
              "      <th>calories</th>\n",
              "      <th>protein</th>\n",
              "      <th>fat</th>\n",
              "      <th>sodium</th>\n",
              "      <th>fiber</th>\n",
              "      <th>carbo</th>\n",
              "      <th>sugars</th>\n",
              "      <th>potass</th>\n",
              "      <th>vitamins</th>\n",
              "      <th>shelf</th>\n",
              "      <th>weight</th>\n",
              "      <th>cups</th>\n",
              "      <th>rating</th>\n",
              "    </tr>\n",
              "  </thead>\n",
              "  <tbody>\n",
              "    <tr>\n",
              "      <th>0</th>\n",
              "      <td>100% Bran</td>\n",
              "      <td>N</td>\n",
              "      <td>C</td>\n",
              "      <td>NaN</td>\n",
              "      <td>4</td>\n",
              "      <td>1.0</td>\n",
              "      <td>130</td>\n",
              "      <td>10.0</td>\n",
              "      <td>5.0</td>\n",
              "      <td>6.0</td>\n",
              "      <td>280</td>\n",
              "      <td>25</td>\n",
              "      <td>top</td>\n",
              "      <td>1.0</td>\n",
              "      <td>0.33</td>\n",
              "      <td>68.402973</td>\n",
              "    </tr>\n",
              "    <tr>\n",
              "      <th>1</th>\n",
              "      <td>100% Natural Bran</td>\n",
              "      <td>Q</td>\n",
              "      <td>C</td>\n",
              "      <td>120.0</td>\n",
              "      <td>3</td>\n",
              "      <td>5.0</td>\n",
              "      <td>15</td>\n",
              "      <td>2.0</td>\n",
              "      <td>8.0</td>\n",
              "      <td>8.0</td>\n",
              "      <td>135</td>\n",
              "      <td>0</td>\n",
              "      <td>top</td>\n",
              "      <td>1.0</td>\n",
              "      <td>1.00</td>\n",
              "      <td>33.983679</td>\n",
              "    </tr>\n",
              "    <tr>\n",
              "      <th>2</th>\n",
              "      <td>All-Bran</td>\n",
              "      <td>K</td>\n",
              "      <td>C</td>\n",
              "      <td>70.0</td>\n",
              "      <td>4</td>\n",
              "      <td>1.0</td>\n",
              "      <td>260</td>\n",
              "      <td>9.0</td>\n",
              "      <td>7.0</td>\n",
              "      <td>5.0</td>\n",
              "      <td>320</td>\n",
              "      <td>25</td>\n",
              "      <td>top</td>\n",
              "      <td>1.0</td>\n",
              "      <td>0.33</td>\n",
              "      <td>59.425505</td>\n",
              "    </tr>\n",
              "    <tr>\n",
              "      <th>3</th>\n",
              "      <td>All-Bran with Extra Fiber</td>\n",
              "      <td>K</td>\n",
              "      <td>C</td>\n",
              "      <td>50.0</td>\n",
              "      <td>4</td>\n",
              "      <td>0.0</td>\n",
              "      <td>140</td>\n",
              "      <td>14.0</td>\n",
              "      <td>8.0</td>\n",
              "      <td>0.0</td>\n",
              "      <td>330</td>\n",
              "      <td>25</td>\n",
              "      <td>top</td>\n",
              "      <td>1.0</td>\n",
              "      <td>0.50</td>\n",
              "      <td>93.704912</td>\n",
              "    </tr>\n",
              "    <tr>\n",
              "      <th>4</th>\n",
              "      <td>Almond Delight</td>\n",
              "      <td>R</td>\n",
              "      <td>C</td>\n",
              "      <td>NaN</td>\n",
              "      <td>2</td>\n",
              "      <td>2.0</td>\n",
              "      <td>200</td>\n",
              "      <td>1.0</td>\n",
              "      <td>14.0</td>\n",
              "      <td>8.0</td>\n",
              "      <td>-1</td>\n",
              "      <td>25</td>\n",
              "      <td>NaN</td>\n",
              "      <td>1.0</td>\n",
              "      <td>0.75</td>\n",
              "      <td>34.384843</td>\n",
              "    </tr>\n",
              "  </tbody>\n",
              "</table>\n",
              "</div>\n",
              "      <button class=\"colab-df-convert\" onclick=\"convertToInteractive('df-10767c95-046f-4268-bc5f-e4655af87336')\"\n",
              "              title=\"Convert this dataframe to an interactive table.\"\n",
              "              style=\"display:none;\">\n",
              "        \n",
              "  <svg xmlns=\"http://www.w3.org/2000/svg\" height=\"24px\"viewBox=\"0 0 24 24\"\n",
              "       width=\"24px\">\n",
              "    <path d=\"M0 0h24v24H0V0z\" fill=\"none\"/>\n",
              "    <path d=\"M18.56 5.44l.94 2.06.94-2.06 2.06-.94-2.06-.94-.94-2.06-.94 2.06-2.06.94zm-11 1L8.5 8.5l.94-2.06 2.06-.94-2.06-.94L8.5 2.5l-.94 2.06-2.06.94zm10 10l.94 2.06.94-2.06 2.06-.94-2.06-.94-.94-2.06-.94 2.06-2.06.94z\"/><path d=\"M17.41 7.96l-1.37-1.37c-.4-.4-.92-.59-1.43-.59-.52 0-1.04.2-1.43.59L10.3 9.45l-7.72 7.72c-.78.78-.78 2.05 0 2.83L4 21.41c.39.39.9.59 1.41.59.51 0 1.02-.2 1.41-.59l7.78-7.78 2.81-2.81c.8-.78.8-2.07 0-2.86zM5.41 20L4 18.59l7.72-7.72 1.47 1.35L5.41 20z\"/>\n",
              "  </svg>\n",
              "      </button>\n",
              "      \n",
              "  <style>\n",
              "    .colab-df-container {\n",
              "      display:flex;\n",
              "      flex-wrap:wrap;\n",
              "      gap: 12px;\n",
              "    }\n",
              "\n",
              "    .colab-df-convert {\n",
              "      background-color: #E8F0FE;\n",
              "      border: none;\n",
              "      border-radius: 50%;\n",
              "      cursor: pointer;\n",
              "      display: none;\n",
              "      fill: #1967D2;\n",
              "      height: 32px;\n",
              "      padding: 0 0 0 0;\n",
              "      width: 32px;\n",
              "    }\n",
              "\n",
              "    .colab-df-convert:hover {\n",
              "      background-color: #E2EBFA;\n",
              "      box-shadow: 0px 1px 2px rgba(60, 64, 67, 0.3), 0px 1px 3px 1px rgba(60, 64, 67, 0.15);\n",
              "      fill: #174EA6;\n",
              "    }\n",
              "\n",
              "    [theme=dark] .colab-df-convert {\n",
              "      background-color: #3B4455;\n",
              "      fill: #D2E3FC;\n",
              "    }\n",
              "\n",
              "    [theme=dark] .colab-df-convert:hover {\n",
              "      background-color: #434B5C;\n",
              "      box-shadow: 0px 1px 3px 1px rgba(0, 0, 0, 0.15);\n",
              "      filter: drop-shadow(0px 1px 2px rgba(0, 0, 0, 0.3));\n",
              "      fill: #FFFFFF;\n",
              "    }\n",
              "  </style>\n",
              "\n",
              "      <script>\n",
              "        const buttonEl =\n",
              "          document.querySelector('#df-10767c95-046f-4268-bc5f-e4655af87336 button.colab-df-convert');\n",
              "        buttonEl.style.display =\n",
              "          google.colab.kernel.accessAllowed ? 'block' : 'none';\n",
              "\n",
              "        async function convertToInteractive(key) {\n",
              "          const element = document.querySelector('#df-10767c95-046f-4268-bc5f-e4655af87336');\n",
              "          const dataTable =\n",
              "            await google.colab.kernel.invokeFunction('convertToInteractive',\n",
              "                                                     [key], {});\n",
              "          if (!dataTable) return;\n",
              "\n",
              "          const docLinkHtml = 'Like what you see? Visit the ' +\n",
              "            '<a target=\"_blank\" href=https://colab.research.google.com/notebooks/data_table.ipynb>data table notebook</a>'\n",
              "            + ' to learn more about interactive tables.';\n",
              "          element.innerHTML = '';\n",
              "          dataTable['output_type'] = 'display_data';\n",
              "          await google.colab.output.renderOutput(dataTable, element);\n",
              "          const docLink = document.createElement('div');\n",
              "          docLink.innerHTML = docLinkHtml;\n",
              "          element.appendChild(docLink);\n",
              "        }\n",
              "      </script>\n",
              "    </div>\n",
              "  </div>\n",
              "  "
            ]
          },
          "metadata": {},
          "execution_count": 4
        }
      ]
    },
    {
      "cell_type": "code",
      "source": [
        "# Keep ony required columns\n",
        "use_cols = ['mfr', 'type', 'calories', 'protein', 'fat', 'fiber', 'sugars', 'shelf','rating']\n",
        "df = df[use_cols]\n",
        "df"
      ],
      "metadata": {
        "colab": {
          "base_uri": "https://localhost:8080/",
          "height": 424
        },
        "id": "vY2GboBSL-m3",
        "outputId": "42820243-c453-479b-8677-3104aa9cb116"
      },
      "execution_count": null,
      "outputs": [
        {
          "output_type": "execute_result",
          "data": {
            "text/plain": [
              "   mfr type  calories  protein  fat  fiber  sugars   shelf     rating\n",
              "0    N    C       NaN        4  1.0   10.0     6.0     top  68.402973\n",
              "1    Q    C     120.0        3  5.0    2.0     8.0     top  33.983679\n",
              "2    K    C      70.0        4  1.0    9.0     5.0     top  59.425505\n",
              "3    K    C      50.0        4  0.0   14.0     0.0     top  93.704912\n",
              "4    R    C       NaN        2  2.0    1.0     8.0     NaN  34.384843\n",
              "..  ..  ...       ...      ...  ...    ...     ...     ...        ...\n",
              "72   G    C     110.0        2  1.0    0.0     3.0     top  39.106174\n",
              "73   G    C     110.0        1  1.0    0.0    12.0  middle  27.753301\n",
              "74   R    C     100.0        3  1.0    3.0     3.0  bottom  49.787445\n",
              "75   G    C     100.0        3  1.0    3.0     3.0  bottom  51.592193\n",
              "76   G    C     110.0        2  1.0    1.0     8.0  bottom  36.187559\n",
              "\n",
              "[77 rows x 9 columns]"
            ],
            "text/html": [
              "\n",
              "  <div id=\"df-92e2a4d1-22c1-4808-88da-4ed59e0a553d\">\n",
              "    <div class=\"colab-df-container\">\n",
              "      <div>\n",
              "<style scoped>\n",
              "    .dataframe tbody tr th:only-of-type {\n",
              "        vertical-align: middle;\n",
              "    }\n",
              "\n",
              "    .dataframe tbody tr th {\n",
              "        vertical-align: top;\n",
              "    }\n",
              "\n",
              "    .dataframe thead th {\n",
              "        text-align: right;\n",
              "    }\n",
              "</style>\n",
              "<table border=\"1\" class=\"dataframe\">\n",
              "  <thead>\n",
              "    <tr style=\"text-align: right;\">\n",
              "      <th></th>\n",
              "      <th>mfr</th>\n",
              "      <th>type</th>\n",
              "      <th>calories</th>\n",
              "      <th>protein</th>\n",
              "      <th>fat</th>\n",
              "      <th>fiber</th>\n",
              "      <th>sugars</th>\n",
              "      <th>shelf</th>\n",
              "      <th>rating</th>\n",
              "    </tr>\n",
              "  </thead>\n",
              "  <tbody>\n",
              "    <tr>\n",
              "      <th>0</th>\n",
              "      <td>N</td>\n",
              "      <td>C</td>\n",
              "      <td>NaN</td>\n",
              "      <td>4</td>\n",
              "      <td>1.0</td>\n",
              "      <td>10.0</td>\n",
              "      <td>6.0</td>\n",
              "      <td>top</td>\n",
              "      <td>68.402973</td>\n",
              "    </tr>\n",
              "    <tr>\n",
              "      <th>1</th>\n",
              "      <td>Q</td>\n",
              "      <td>C</td>\n",
              "      <td>120.0</td>\n",
              "      <td>3</td>\n",
              "      <td>5.0</td>\n",
              "      <td>2.0</td>\n",
              "      <td>8.0</td>\n",
              "      <td>top</td>\n",
              "      <td>33.983679</td>\n",
              "    </tr>\n",
              "    <tr>\n",
              "      <th>2</th>\n",
              "      <td>K</td>\n",
              "      <td>C</td>\n",
              "      <td>70.0</td>\n",
              "      <td>4</td>\n",
              "      <td>1.0</td>\n",
              "      <td>9.0</td>\n",
              "      <td>5.0</td>\n",
              "      <td>top</td>\n",
              "      <td>59.425505</td>\n",
              "    </tr>\n",
              "    <tr>\n",
              "      <th>3</th>\n",
              "      <td>K</td>\n",
              "      <td>C</td>\n",
              "      <td>50.0</td>\n",
              "      <td>4</td>\n",
              "      <td>0.0</td>\n",
              "      <td>14.0</td>\n",
              "      <td>0.0</td>\n",
              "      <td>top</td>\n",
              "      <td>93.704912</td>\n",
              "    </tr>\n",
              "    <tr>\n",
              "      <th>4</th>\n",
              "      <td>R</td>\n",
              "      <td>C</td>\n",
              "      <td>NaN</td>\n",
              "      <td>2</td>\n",
              "      <td>2.0</td>\n",
              "      <td>1.0</td>\n",
              "      <td>8.0</td>\n",
              "      <td>NaN</td>\n",
              "      <td>34.384843</td>\n",
              "    </tr>\n",
              "    <tr>\n",
              "      <th>...</th>\n",
              "      <td>...</td>\n",
              "      <td>...</td>\n",
              "      <td>...</td>\n",
              "      <td>...</td>\n",
              "      <td>...</td>\n",
              "      <td>...</td>\n",
              "      <td>...</td>\n",
              "      <td>...</td>\n",
              "      <td>...</td>\n",
              "    </tr>\n",
              "    <tr>\n",
              "      <th>72</th>\n",
              "      <td>G</td>\n",
              "      <td>C</td>\n",
              "      <td>110.0</td>\n",
              "      <td>2</td>\n",
              "      <td>1.0</td>\n",
              "      <td>0.0</td>\n",
              "      <td>3.0</td>\n",
              "      <td>top</td>\n",
              "      <td>39.106174</td>\n",
              "    </tr>\n",
              "    <tr>\n",
              "      <th>73</th>\n",
              "      <td>G</td>\n",
              "      <td>C</td>\n",
              "      <td>110.0</td>\n",
              "      <td>1</td>\n",
              "      <td>1.0</td>\n",
              "      <td>0.0</td>\n",
              "      <td>12.0</td>\n",
              "      <td>middle</td>\n",
              "      <td>27.753301</td>\n",
              "    </tr>\n",
              "    <tr>\n",
              "      <th>74</th>\n",
              "      <td>R</td>\n",
              "      <td>C</td>\n",
              "      <td>100.0</td>\n",
              "      <td>3</td>\n",
              "      <td>1.0</td>\n",
              "      <td>3.0</td>\n",
              "      <td>3.0</td>\n",
              "      <td>bottom</td>\n",
              "      <td>49.787445</td>\n",
              "    </tr>\n",
              "    <tr>\n",
              "      <th>75</th>\n",
              "      <td>G</td>\n",
              "      <td>C</td>\n",
              "      <td>100.0</td>\n",
              "      <td>3</td>\n",
              "      <td>1.0</td>\n",
              "      <td>3.0</td>\n",
              "      <td>3.0</td>\n",
              "      <td>bottom</td>\n",
              "      <td>51.592193</td>\n",
              "    </tr>\n",
              "    <tr>\n",
              "      <th>76</th>\n",
              "      <td>G</td>\n",
              "      <td>C</td>\n",
              "      <td>110.0</td>\n",
              "      <td>2</td>\n",
              "      <td>1.0</td>\n",
              "      <td>1.0</td>\n",
              "      <td>8.0</td>\n",
              "      <td>bottom</td>\n",
              "      <td>36.187559</td>\n",
              "    </tr>\n",
              "  </tbody>\n",
              "</table>\n",
              "<p>77 rows × 9 columns</p>\n",
              "</div>\n",
              "      <button class=\"colab-df-convert\" onclick=\"convertToInteractive('df-92e2a4d1-22c1-4808-88da-4ed59e0a553d')\"\n",
              "              title=\"Convert this dataframe to an interactive table.\"\n",
              "              style=\"display:none;\">\n",
              "        \n",
              "  <svg xmlns=\"http://www.w3.org/2000/svg\" height=\"24px\"viewBox=\"0 0 24 24\"\n",
              "       width=\"24px\">\n",
              "    <path d=\"M0 0h24v24H0V0z\" fill=\"none\"/>\n",
              "    <path d=\"M18.56 5.44l.94 2.06.94-2.06 2.06-.94-2.06-.94-.94-2.06-.94 2.06-2.06.94zm-11 1L8.5 8.5l.94-2.06 2.06-.94-2.06-.94L8.5 2.5l-.94 2.06-2.06.94zm10 10l.94 2.06.94-2.06 2.06-.94-2.06-.94-.94-2.06-.94 2.06-2.06.94z\"/><path d=\"M17.41 7.96l-1.37-1.37c-.4-.4-.92-.59-1.43-.59-.52 0-1.04.2-1.43.59L10.3 9.45l-7.72 7.72c-.78.78-.78 2.05 0 2.83L4 21.41c.39.39.9.59 1.41.59.51 0 1.02-.2 1.41-.59l7.78-7.78 2.81-2.81c.8-.78.8-2.07 0-2.86zM5.41 20L4 18.59l7.72-7.72 1.47 1.35L5.41 20z\"/>\n",
              "  </svg>\n",
              "      </button>\n",
              "      \n",
              "  <style>\n",
              "    .colab-df-container {\n",
              "      display:flex;\n",
              "      flex-wrap:wrap;\n",
              "      gap: 12px;\n",
              "    }\n",
              "\n",
              "    .colab-df-convert {\n",
              "      background-color: #E8F0FE;\n",
              "      border: none;\n",
              "      border-radius: 50%;\n",
              "      cursor: pointer;\n",
              "      display: none;\n",
              "      fill: #1967D2;\n",
              "      height: 32px;\n",
              "      padding: 0 0 0 0;\n",
              "      width: 32px;\n",
              "    }\n",
              "\n",
              "    .colab-df-convert:hover {\n",
              "      background-color: #E2EBFA;\n",
              "      box-shadow: 0px 1px 2px rgba(60, 64, 67, 0.3), 0px 1px 3px 1px rgba(60, 64, 67, 0.15);\n",
              "      fill: #174EA6;\n",
              "    }\n",
              "\n",
              "    [theme=dark] .colab-df-convert {\n",
              "      background-color: #3B4455;\n",
              "      fill: #D2E3FC;\n",
              "    }\n",
              "\n",
              "    [theme=dark] .colab-df-convert:hover {\n",
              "      background-color: #434B5C;\n",
              "      box-shadow: 0px 1px 3px 1px rgba(0, 0, 0, 0.15);\n",
              "      filter: drop-shadow(0px 1px 2px rgba(0, 0, 0, 0.3));\n",
              "      fill: #FFFFFF;\n",
              "    }\n",
              "  </style>\n",
              "\n",
              "      <script>\n",
              "        const buttonEl =\n",
              "          document.querySelector('#df-92e2a4d1-22c1-4808-88da-4ed59e0a553d button.colab-df-convert');\n",
              "        buttonEl.style.display =\n",
              "          google.colab.kernel.accessAllowed ? 'block' : 'none';\n",
              "\n",
              "        async function convertToInteractive(key) {\n",
              "          const element = document.querySelector('#df-92e2a4d1-22c1-4808-88da-4ed59e0a553d');\n",
              "          const dataTable =\n",
              "            await google.colab.kernel.invokeFunction('convertToInteractive',\n",
              "                                                     [key], {});\n",
              "          if (!dataTable) return;\n",
              "\n",
              "          const docLinkHtml = 'Like what you see? Visit the ' +\n",
              "            '<a target=\"_blank\" href=https://colab.research.google.com/notebooks/data_table.ipynb>data table notebook</a>'\n",
              "            + ' to learn more about interactive tables.';\n",
              "          element.innerHTML = '';\n",
              "          dataTable['output_type'] = 'display_data';\n",
              "          await google.colab.output.renderOutput(dataTable, element);\n",
              "          const docLink = document.createElement('div');\n",
              "          docLink.innerHTML = docLinkHtml;\n",
              "          element.appendChild(docLink);\n",
              "        }\n",
              "      </script>\n",
              "    </div>\n",
              "  </div>\n",
              "  "
            ]
          },
          "metadata": {},
          "execution_count": 5
        }
      ]
    },
    {
      "cell_type": "markdown",
      "source": [
        "## Answer the following questions in a Markdown cell in your Colab Notebook:\n"
      ],
      "metadata": {
        "id": "1mXLmyrZE4gz"
      }
    },
    {
      "cell_type": "markdown",
      "source": [
        "\n",
        "- Define your target column:\n",
        "  - rating\n",
        "- Is this a classification or regression task? \n",
        "  - Regression"
      ],
      "metadata": {
        "id": "sB3ZIE7pg36W"
      }
    },
    {
      "cell_type": "markdown",
      "source": [
        "## Inspecting Each Feature"
      ],
      "metadata": {
        "id": "miMGkxJQ2lq0"
      }
    },
    {
      "cell_type": "markdown",
      "source": [
        "### mfr"
      ],
      "metadata": {
        "id": "g3hIxO_2fKSB"
      }
    },
    {
      "cell_type": "markdown",
      "source": [
        "- mfr: Manufacturer of cereal\n",
        "  - A = American Home Food Products;\n",
        "  - G = General Mills\n",
        "  - K = Kelloggs\n",
        "  - N = Nabisco\n",
        "  - P = Post\n",
        "  - Q = Quaker Oats\n",
        "  - R = Ralston Purina\n",
        "\n",
        "  "
      ],
      "metadata": {
        "id": "T3iMStygN7O2"
      }
    },
    {
      "cell_type": "code",
      "source": [
        "# Confirming the dtype to select correct EDA function\n",
        "feature = \"mfr\"\n",
        "df[feature].dtype"
      ],
      "metadata": {
        "colab": {
          "base_uri": "https://localhost:8080/"
        },
        "id": "KvZxIJbbN7O2",
        "outputId": "93809882-af6c-4ef1-e25c-b45c8e0f5739"
      },
      "execution_count": null,
      "outputs": [
        {
          "output_type": "execute_result",
          "data": {
            "text/plain": [
              "dtype('O')"
            ]
          },
          "metadata": {},
          "execution_count": 6
        }
      ]
    },
    {
      "cell_type": "code",
      "source": [
        "# run the appropriate explore function (based on feature's dtype)\n",
        "explore_categorical(df,feature);"
      ],
      "metadata": {
        "colab": {
          "base_uri": "https://localhost:8080/",
          "height": 478
        },
        "id": "hGoP8XESN7O2",
        "outputId": "77dcd385-b9b7-43ab-bea9-11da40f8c3e3"
      },
      "execution_count": null,
      "outputs": [
        {
          "output_type": "display_data",
          "data": {
            "text/plain": [
              "<Figure size 600x400 with 1 Axes>"
            ],
            "image/png": "[encoded data removed]"
          },
          "metadata": {}
        },
        {
          "output_type": "stream",
          "name": "stdout",
          "text": [
            "- NaN's Found: 2 (2.6%)\n",
            "- Unique Values: 8\n",
            "- Most common value: 'K' occurs 23 times (29.87%)\n",
            "- Not constant or quasi-constant.\n"
          ]
        }
      ]
    },
    {
      "cell_type": "markdown",
      "source": [
        "**Feature Observations**\n",
        "\n",
        "1. What type of feature is it? (Categorical (nominal), ordinal, numeric)\n",
        "  - categorical (nominal)\n",
        "\n",
        "2. How many null values? What percentage? What would you do with the null values (drop the rows? drop the column? impute? if impute, with what?)\n",
        "  - 2 null values (2.6%)\n",
        "  - Impute with \"MISSING\" placeholder.\n",
        "\n",
        "3. Is the feature constant or quasi-constant?\n",
        "  - No.\n",
        "\n",
        "4. What is the cardinality? Is it high?\n",
        "  - 8 unique categories.\n",
        "  - Not high cardinality (not >10)\n",
        "\n",
        "5. Would we know this BEFORE the target is determined?\n",
        "  - Yes.\n",
        "\n",
        "6. Is there a business case/understanding reason to exclude based on our business case?\n",
        "  - No.\n",
        "\n"
      ],
      "metadata": {
        "id": "z1IDHy5fN7O2"
      }
    },
    {
      "cell_type": "code",
      "source": [
        "# Run the appropriate feature vs. target function (based on dtype)\n",
        "plot_categorical_vs_target(df, feature,'rating')"
      ],
      "metadata": {
        "colab": {
          "base_uri": "https://localhost:8080/",
          "height": 443
        },
        "id": "naF29poIN7O2",
        "outputId": "1489c0e9-0400-46e2-c07d-a593297cffe3"
      },
      "execution_count": null,
      "outputs": [
        {
          "output_type": "execute_result",
          "data": {
            "text/plain": [
              "(<Figure size 600x400 with 1 Axes>,\n",
              " <Axes: title={'center': 'mfr vs. rating'}, xlabel='mfr', ylabel='rating'>)"
            ]
          },
          "metadata": {},
          "execution_count": 8
        },
        {
          "output_type": "display_data",
          "data": {
            "text/plain": [
              "<Figure size 600x400 with 1 Axes>"
            ],
            "image/png": "[encoded data removed]"
          },
          "metadata": {}
        }
      ]
    },
    {
      "cell_type": "markdown",
      "source": [
        "- Feature vs. Target Observations:\n",
        "  - Based on your business understanding, would you expect this feature to be a predictor of the target?\n",
        "    - Yes.\n",
        "  - Does this feature appear to be a predictor of the target?\n",
        "    - Yes it does, there is variability between the groups, even though some have similar means.\n",
        "\n",
        "___"
      ],
      "metadata": {
        "id": "iuWj2ajRN7O2"
      }
    },
    {
      "cell_type": "markdown",
      "source": [
        "### type"
      ],
      "metadata": {
        "id": "-D5aLvtcOVjF"
      }
    },
    {
      "cell_type": "markdown",
      "source": [
        "- type: hot or cold\n",
        "  "
      ],
      "metadata": {
        "id": "WNYoxdsNOVjS"
      }
    },
    {
      "cell_type": "code",
      "source": [
        "# Confirming the dtype to select correct EDA function\n",
        "feature = \"type\"\n",
        "df[feature].dtype"
      ],
      "metadata": {
        "colab": {
          "base_uri": "https://localhost:8080/"
        },
        "id": "IjQfoflBOVjS",
        "outputId": "ade819c0-88d8-4e7e-8e21-df32babd5b49"
      },
      "execution_count": null,
      "outputs": [
        {
          "output_type": "execute_result",
          "data": {
            "text/plain": [
              "dtype('O')"
            ]
          },
          "metadata": {},
          "execution_count": 9
        }
      ]
    },
    {
      "cell_type": "code",
      "source": [
        "# run the appropriate explore function (based on feature's dtype)\n",
        "explore_categorical(df, feature);"
      ],
      "metadata": {
        "colab": {
          "base_uri": "https://localhost:8080/",
          "height": 478
        },
        "id": "gb9zeoYrOVjS",
        "outputId": "e853973a-ea34-426c-dfe6-da8d3e6ec78a"
      },
      "execution_count": null,
      "outputs": [
        {
          "output_type": "display_data",
          "data": {
            "text/plain": [
              "<Figure size 600x400 with 1 Axes>"
            ],
            "image/png": "[encoded data removed]"
          },
          "metadata": {}
        },
        {
          "output_type": "stream",
          "name": "stdout",
          "text": [
            "- NaN's Found: 0 (0.0%)\n",
            "- Unique Values: 2\n",
            "- Most common value: 'C' occurs 74 times (96.1%)\n",
            "- Not constant or quasi-constant.\n"
          ]
        }
      ]
    },
    {
      "cell_type": "markdown",
      "source": [
        "**Feature Observations**\n",
        "\n",
        "1. What type of feature is it? (Categorical (nominal), ordinal, numeric)\n",
        "  - Categorical\n",
        "\n",
        "2. How many null values? What percentage? What would you do with the null values (drop the rows? drop the column? impute? if impute, with what?)\n",
        "  - 0. Nothing to impute.\n",
        "\n",
        "3. Is the feature constant or quasi-constant?\n",
        "  - No.\n",
        "\n",
        "4. What is the cardinality? Is it high?\n",
        "  - 2 unique values (very low).\n",
        "\n",
        "5. Would we know this BEFORE the target is determined?\n",
        "  - Yes.\n",
        "\n",
        "6. Is there a business case/understanding reason to exclude based on our business case?\n",
        "  - No.\n",
        "\n"
      ],
      "metadata": {
        "id": "Mz-sHkVlOVjS"
      }
    },
    {
      "cell_type": "code",
      "source": [
        "# Run the appropriate feature vs. target function (based on dtype)\n",
        "plot_categorical_vs_target(df, feature, 'rating');"
      ],
      "metadata": {
        "colab": {
          "base_uri": "https://localhost:8080/",
          "height": 407
        },
        "id": "j1X01gtFOVjS",
        "outputId": "e86c4a4d-c31c-40b7-f486-440e7e8d0385"
      },
      "execution_count": null,
      "outputs": [
        {
          "output_type": "display_data",
          "data": {
            "text/plain": [
              "<Figure size 600x400 with 1 Axes>"
            ],
            "image/png": "[encoded data removed]"
          },
          "metadata": {}
        }
      ]
    },
    {
      "cell_type": "markdown",
      "source": [
        "- Feature vs. Target Observations:\n",
        "  - Based on your business understanding, would you expect this feature to be a predictor of the target?\n",
        "    - Yes, I think one might be rated higher. \n",
        "  - Does this feature appear to be a predictor of the target?\n",
        "    - Yes, hot cereals seem to get a higher rating.\n",
        "\n",
        "___"
      ],
      "metadata": {
        "id": "MfI4S_wvOVjS"
      }
    },
    {
      "cell_type": "markdown",
      "source": [
        "### calories"
      ],
      "metadata": {
        "id": "TvfszvpjOWEo"
      }
    },
    {
      "cell_type": "markdown",
      "source": [
        "- calories: calories per serving"
      ],
      "metadata": {
        "id": "fx8DxDylOWEp"
      }
    },
    {
      "cell_type": "code",
      "source": [
        "# Confirming the dtype to select correct EDA function\n",
        "feature = \"calories\"\n",
        "df[feature].dtype"
      ],
      "metadata": {
        "colab": {
          "base_uri": "https://localhost:8080/"
        },
        "id": "GTC1qZqROWEp",
        "outputId": "e72ca1f1-a412-4de5-9979-c4425824ff27"
      },
      "execution_count": null,
      "outputs": [
        {
          "output_type": "execute_result",
          "data": {
            "text/plain": [
              "dtype('float64')"
            ]
          },
          "metadata": {},
          "execution_count": 12
        }
      ]
    },
    {
      "cell_type": "code",
      "source": [
        "# run the appropriate explore function (based on feature's dtype)\n",
        "explore_numeric(df,feature);"
      ],
      "metadata": {
        "colab": {
          "base_uri": "https://localhost:8080/",
          "height": 577
        },
        "id": "vZP2DAF5OWEp",
        "outputId": "9ae6f408-0d12-455b-ee7c-07f29827ab31"
      },
      "execution_count": null,
      "outputs": [
        {
          "output_type": "display_data",
          "data": {
            "text/plain": [
              "<Figure size 600x500 with 2 Axes>"
            ],
            "image/png": "[encoded data removed]"
          },
          "metadata": {}
        },
        {
          "output_type": "stream",
          "name": "stdout",
          "text": [
            "- NaN's Found: 5 (6.49%)\n",
            "- Unique Values: 11\n",
            "- Most common value: '110.0' occurs 28 times (36.36%)\n",
            "- Not constant or quasi-constant.\n"
          ]
        }
      ]
    },
    {
      "cell_type": "markdown",
      "source": [
        "**Feature Observations**\n",
        "\n",
        "1. What type of feature is it? (Categorical (nominal), ordinal, numeric)\n",
        "  - numeric.\n",
        "\n",
        "2. How many null values? What percentage? What would you do with the null values (drop the rows? drop the column? impute? if impute, with what?)\n",
        "  - 5 (6.49%)\n",
        "  - impute with median.\n",
        "\n",
        "3. Is the feature constant or quasi-constant?\n",
        "  - No.\n",
        "\n",
        "4. What is the cardinality? Is it high?\n",
        "  - Not applicable (numeric).\n",
        "\n",
        "5. Would we know this BEFORE the target is determined?\n",
        "  - Yes.\n",
        "\n",
        "6. Is there a business case/understanding reason to exclude based on our business case?\n",
        "  - No.\n",
        "\n"
      ],
      "metadata": {
        "id": "LyJvB4QCOWEp"
      }
    },
    {
      "cell_type": "code",
      "source": [
        "# Run the appropriate feature vs. target function (based on dtype)\n",
        "plot_numeric_vs_target(df,feature, 'rating');"
      ],
      "metadata": {
        "colab": {
          "base_uri": "https://localhost:8080/",
          "height": 410
        },
        "id": "jHq_o2zhOWEp",
        "outputId": "7159cb43-faa1-4b1a-b591-6f4d72db7af4"
      },
      "execution_count": null,
      "outputs": [
        {
          "output_type": "display_data",
          "data": {
            "text/plain": [
              "<Figure size 600x400 with 1 Axes>"
            ],
            "image/png": "[encoded data removed]"
          },
          "metadata": {}
        }
      ]
    },
    {
      "cell_type": "markdown",
      "source": [
        "- Feature vs. Target Observations:\n",
        "  - Based on your business understanding, would you expect this feature to be a predictor of the target?\n",
        "    - Yes, I think people may prefer high calorie cereals.\n",
        "  - Does this feature appear to be a predictor of the target?\n",
        "    - Yes, but opposite direction than I expected!\n",
        "\n",
        "___"
      ],
      "metadata": {
        "id": "eJTQTIq_OWEp"
      }
    },
    {
      "cell_type": "markdown",
      "source": [
        "### protein"
      ],
      "metadata": {
        "id": "rPsWYJs3OWt3"
      }
    },
    {
      "cell_type": "markdown",
      "source": [
        "- protein: grams of protein\n",
        "  "
      ],
      "metadata": {
        "id": "1u0KhCmjOWt3"
      }
    },
    {
      "cell_type": "code",
      "source": [
        "# Confirming the dtype to select correct EDA function\n",
        "feature = \"protein\"\n",
        "df[feature].dtype"
      ],
      "metadata": {
        "colab": {
          "base_uri": "https://localhost:8080/"
        },
        "id": "FbENsHbJOWt4",
        "outputId": "0f3e70b9-ddd5-4704-99d6-c9e742e58df3"
      },
      "execution_count": null,
      "outputs": [
        {
          "output_type": "execute_result",
          "data": {
            "text/plain": [
              "dtype('int64')"
            ]
          },
          "metadata": {},
          "execution_count": 15
        }
      ]
    },
    {
      "cell_type": "code",
      "source": [
        "# run the appropriate explore function (based on feature's dtype)\n",
        "explore_numeric(df,feature);"
      ],
      "metadata": {
        "colab": {
          "base_uri": "https://localhost:8080/",
          "height": 577
        },
        "id": "u50S8cGIOWt4",
        "outputId": "a7bbec29-75c1-4708-91a0-cc8f25f407e7"
      },
      "execution_count": null,
      "outputs": [
        {
          "output_type": "display_data",
          "data": {
            "text/plain": [
              "<Figure size 600x500 with 2 Axes>"
            ],
            "image/png": "[encoded data removed]"
          },
          "metadata": {}
        },
        {
          "output_type": "stream",
          "name": "stdout",
          "text": [
            "- NaN's Found: 0 (0.0%)\n",
            "- Unique Values: 6\n",
            "- Most common value: '3' occurs 28 times (36.36%)\n",
            "- Not constant or quasi-constant.\n"
          ]
        }
      ]
    },
    {
      "cell_type": "markdown",
      "source": [
        "**Feature Observations**\n",
        "\n",
        "1. What type of feature is it? (Categorical (nominal), ordinal, numeric)\n",
        "  - numeric.\n",
        "\n",
        "2. How many null values? What percentage? What would you do with the null values (drop the rows? drop the column? impute? if impute, with what?)\n",
        "  - 0 null values.\n",
        "\n",
        "3. Is the feature constant or quasi-constant?\n",
        "  - No.\n",
        "\n",
        "4. What is the cardinality? Is it high?\n",
        "  - 6 unique values. Not high (since its \\<10).\n",
        "\n",
        "5. Would we know this BEFORE the target is determined?\n",
        "  - Yes.\n",
        "\n",
        "6. Is there a business case/understanding reason to exclude based on our business case?\n",
        "  - No.\n",
        "\n"
      ],
      "metadata": {
        "id": "XHahkIlCOWt4"
      }
    },
    {
      "cell_type": "code",
      "source": [
        "# Run the appropriate feature vs. target function (based on dtype)\n",
        "plot_numeric_vs_target(df,feature, 'rating');"
      ],
      "metadata": {
        "colab": {
          "base_uri": "https://localhost:8080/",
          "height": 410
        },
        "id": "JOkdNDdHOWt4",
        "outputId": "306a7524-ed10-434a-81f4-1544cb3d129b"
      },
      "execution_count": null,
      "outputs": [
        {
          "output_type": "display_data",
          "data": {
            "text/plain": [
              "<Figure size 600x400 with 1 Axes>"
            ],
            "image/png": "[encoded data removed]"
          },
          "metadata": {}
        }
      ]
    },
    {
      "cell_type": "markdown",
      "source": [
        "- Feature vs. Target Observations:\n",
        "  - Based on your business understanding, would you expect this feature to be a predictor of the target?\n",
        "    - Yes, I would assume more protein would be better.\n",
        "  - Does this feature appear to be a predictor of the target?\n",
        "    - Yes!\n",
        "\n",
        "___"
      ],
      "metadata": {
        "id": "wI8lU-AbOWt4"
      }
    },
    {
      "cell_type": "markdown",
      "source": [
        "### fat"
      ],
      "metadata": {
        "id": "rZV-aljvOXjy"
      }
    },
    {
      "cell_type": "markdown",
      "source": [
        "- fat: grams of fat\n",
        "  "
      ],
      "metadata": {
        "id": "Z7j0O7DkOXjz"
      }
    },
    {
      "cell_type": "code",
      "source": [
        "# Confirming the dtype to select correct EDA function\n",
        "feature = \"fat\"\n",
        "df[feature].dtype"
      ],
      "metadata": {
        "colab": {
          "base_uri": "https://localhost:8080/"
        },
        "id": "5mF3FI9IOXj0",
        "outputId": "d39880c1-d3bf-4dd6-eac6-c3895e08b949"
      },
      "execution_count": null,
      "outputs": [
        {
          "output_type": "execute_result",
          "data": {
            "text/plain": [
              "dtype('float64')"
            ]
          },
          "metadata": {},
          "execution_count": 18
        }
      ]
    },
    {
      "cell_type": "code",
      "source": [
        "# run the appropriate explore function (based on feature's dtype)\n",
        "explore_numeric(df,feature);"
      ],
      "metadata": {
        "colab": {
          "base_uri": "https://localhost:8080/",
          "height": 577
        },
        "id": "s0BOBQWYOXj0",
        "outputId": "d1588e0c-1046-454c-f6ef-dbedf321461e"
      },
      "execution_count": null,
      "outputs": [
        {
          "output_type": "display_data",
          "data": {
            "text/plain": [
              "<Figure size 600x500 with 2 Axes>"
            ],
            "image/png": "[encoded data removed]"
          },
          "metadata": {}
        },
        {
          "output_type": "stream",
          "name": "stdout",
          "text": [
            "- NaN's Found: 7 (9.09%)\n",
            "- Unique Values: 5\n",
            "- Most common value: '1.0' occurs 27 times (35.06%)\n",
            "- Not constant or quasi-constant.\n"
          ]
        }
      ]
    },
    {
      "cell_type": "markdown",
      "source": [
        "**Feature Observations**\n",
        "\n",
        "1. What type of feature is it? (Categorical (nominal), ordinal, numeric)\n",
        "  - numeric\n",
        "\n",
        "2. How many null values? What percentage? What would you do with the null values (drop the rows? drop the column? impute? if impute, with what?)\n",
        "  - 7 (9%)\n",
        "  - impute with median.\n",
        "\n",
        "3. Is the feature constant or quasi-constant?\n",
        "  - No.\n",
        "\n",
        "4. What is the cardinality? Is it high?\n",
        "  - Not applicable (numeric).\n",
        "\n",
        "5. Would we know this BEFORE the target is determined?\n",
        "  - Yes.\n",
        "\n",
        "6. Is there a business case/understanding reason to exclude based on our business case?\n",
        "  - No.\n",
        "\n"
      ],
      "metadata": {
        "id": "QpHe08AoOXj0"
      }
    },
    {
      "cell_type": "code",
      "source": [
        "# Run the appropriate feature vs. target function (based on dtype)\n",
        "plot_numeric_vs_target(df, feature, 'rating');"
      ],
      "metadata": {
        "colab": {
          "base_uri": "https://localhost:8080/",
          "height": 410
        },
        "id": "VTOEpevFOXj0",
        "outputId": "3e5b7310-2589-433e-9058-4e560d7e1523"
      },
      "execution_count": null,
      "outputs": [
        {
          "output_type": "display_data",
          "data": {
            "text/plain": [
              "<Figure size 600x400 with 1 Axes>"
            ],
            "image/png": "[encoded data removed]"
          },
          "metadata": {}
        }
      ]
    },
    {
      "cell_type": "markdown",
      "source": [
        "- Feature vs. Target Observations:\n",
        "  - Based on your business understanding, would you expect this feature to be a predictor of the target?\n",
        "    - Yes, I assume fatty cereals would be rated higher. \n",
        "  - Does this feature appear to be a predictor of the target?\n",
        "    - Yes, but opposite direction than expected.\n",
        "\n",
        "___"
      ],
      "metadata": {
        "id": "AL6wfp2eOXj0"
      }
    },
    {
      "cell_type": "markdown",
      "source": [
        "### fiber"
      ],
      "metadata": {
        "id": "89q9fTvuacko"
      }
    },
    {
      "cell_type": "markdown",
      "source": [
        "- fiber: grams of dietary fiber\n",
        "\n",
        "  "
      ],
      "metadata": {
        "id": "Z4e7fy_Jack0"
      }
    },
    {
      "cell_type": "code",
      "source": [
        "# # Confirming the dtype to select correct EDA function\n",
        "feature = \"fiber\"\n",
        "df[feature].dtype"
      ],
      "metadata": {
        "colab": {
          "base_uri": "https://localhost:8080/"
        },
        "id": "ChcS4Gpsack1",
        "outputId": "a7b772e2-2a70-4e17-95f1-85ef414f54a2"
      },
      "execution_count": null,
      "outputs": [
        {
          "output_type": "execute_result",
          "data": {
            "text/plain": [
              "dtype('float64')"
            ]
          },
          "metadata": {},
          "execution_count": 21
        }
      ]
    },
    {
      "cell_type": "code",
      "source": [
        "# run the appropriate explore function (based on feature's dtype)\n",
        "explore_numeric(df, feature);"
      ],
      "metadata": {
        "colab": {
          "base_uri": "https://localhost:8080/",
          "height": 577
        },
        "id": "3CnErr6jack1",
        "outputId": "eeb62f42-708c-42b8-9bb7-aefa6213f4a7"
      },
      "execution_count": null,
      "outputs": [
        {
          "output_type": "display_data",
          "data": {
            "text/plain": [
              "<Figure size 600x500 with 2 Axes>"
            ],
            "image/png": "[encoded data removed]"
          },
          "metadata": {}
        },
        {
          "output_type": "stream",
          "name": "stdout",
          "text": [
            "- NaN's Found: 6 (7.79%)\n",
            "- Unique Values: 13\n",
            "- Most common value: '0.0' occurs 18 times (23.38%)\n",
            "- Not constant or quasi-constant.\n"
          ]
        }
      ]
    },
    {
      "cell_type": "markdown",
      "source": [
        "**Feature Observations**\n",
        "\n",
        "1. What type of feature is it? (Categorical (nominal), ordinal, numeric)\n",
        "  - numeric\n",
        "\n",
        "2. How many null values? What percentage? What would you do with the null values (drop the rows? drop the column? impute? if impute, with what?)\n",
        "  - 6 (7.79%)\n",
        "  - Impute with the median\n",
        "\n",
        "3. Is the feature constant or quasi-constant?\n",
        "  - No.\n",
        "\n",
        "4. What is the cardinality? Is it high?\n",
        "  - Not applicable (numeric).\n",
        "\n",
        "5. Would we know this BEFORE the target is determined?\n",
        "  - Yes.\n",
        "\n",
        "6. Is there a business case/understanding reason to exclude based on our business case?\n",
        "  - No.\n",
        "\n"
      ],
      "metadata": {
        "id": "SJiNqMl4ack1"
      }
    },
    {
      "cell_type": "code",
      "source": [
        "# Run the appropriate feature vs. target function (based on dtype)\n",
        "plot_numeric_vs_target(df, feature, 'rating');"
      ],
      "metadata": {
        "colab": {
          "base_uri": "https://localhost:8080/",
          "height": 410
        },
        "id": "flG1IPuKack1",
        "outputId": "319c49d6-f604-488c-a4b0-6eb0a9e63266"
      },
      "execution_count": null,
      "outputs": [
        {
          "output_type": "display_data",
          "data": {
            "text/plain": [
              "<Figure size 600x400 with 1 Axes>"
            ],
            "image/png": "[encoded data removed]"
          },
          "metadata": {}
        }
      ]
    },
    {
      "cell_type": "markdown",
      "source": [
        "- Feature vs. Target Observations:\n",
        "  - Based on your business understanding, would you expect this feature to be a predictor of the target?\n",
        "    - Yes I would expect having more fiber corresponds with a higher rating.\n",
        "  - Does this feature appear to be a predictor of the target?\n",
        "    - Yes.\n",
        "\n",
        "___"
      ],
      "metadata": {
        "id": "YaCk1gdzack1"
      }
    },
    {
      "cell_type": "markdown",
      "source": [],
      "metadata": {
        "id": "y1pv7JIxN6hV"
      }
    },
    {
      "cell_type": "code",
      "source": [
        "df.columns"
      ],
      "metadata": {
        "colab": {
          "base_uri": "https://localhost:8080/"
        },
        "id": "1zAhePerEhCl",
        "outputId": "aecb006d-261c-4211-e6c2-342ecf67361a"
      },
      "execution_count": null,
      "outputs": [
        {
          "output_type": "execute_result",
          "data": {
            "text/plain": [
              "Index(['mfr', 'type', 'calories', 'protein', 'fat', 'fiber', 'sugars', 'shelf',\n",
              "       'rating'],\n",
              "      dtype='object')"
            ]
          },
          "metadata": {},
          "execution_count": 24
        }
      ]
    },
    {
      "cell_type": "markdown",
      "source": [
        "### sugars"
      ],
      "metadata": {
        "id": "ptrdAhHaad47"
      }
    },
    {
      "cell_type": "markdown",
      "source": [
        "- sugars: grams of sugars"
      ],
      "metadata": {
        "id": "bOMN74Gtad47"
      }
    },
    {
      "cell_type": "code",
      "source": [
        "# Confirming the dtype to select correct EDA function\n",
        "feature = \"sugars\"\n",
        "df[feature].dtype"
      ],
      "metadata": {
        "colab": {
          "base_uri": "https://localhost:8080/"
        },
        "id": "KY2d80ohad47",
        "outputId": "bab180b9-0310-4bd6-bf95-938ab9264f0a"
      },
      "execution_count": null,
      "outputs": [
        {
          "output_type": "execute_result",
          "data": {
            "text/plain": [
              "dtype('float64')"
            ]
          },
          "metadata": {},
          "execution_count": 25
        }
      ]
    },
    {
      "cell_type": "code",
      "source": [
        "# run the appropriate explore function (based on feature's dtype)\n",
        "explore_numeric(df,feature);"
      ],
      "metadata": {
        "colab": {
          "base_uri": "https://localhost:8080/",
          "height": 577
        },
        "id": "bVwqwg9Sad48",
        "outputId": "eac9d283-0d58-4cac-8ce1-ec9663fe070a"
      },
      "execution_count": null,
      "outputs": [
        {
          "output_type": "display_data",
          "data": {
            "text/plain": [
              "<Figure size 600x500 with 2 Axes>"
            ],
            "image/png": "[encoded data removed]"
          },
          "metadata": {}
        },
        {
          "output_type": "stream",
          "name": "stdout",
          "text": [
            "- NaN's Found: 6 (7.79%)\n",
            "- Unique Values: 17\n",
            "- Most common value: '3.0' occurs 13 times (16.88%)\n",
            "- Not constant or quasi-constant.\n"
          ]
        }
      ]
    },
    {
      "cell_type": "markdown",
      "source": [
        "**Feature Observations**\n",
        "\n",
        "1. What type of feature is it? (Categorical (nominal), ordinal, numeric)\n",
        "  - numeric.\n",
        "\n",
        "2. How many null values? What percentage? What would you do with the null values (drop the rows? drop the column? impute? if impute, with what?)\n",
        "  - 6 (7.79%)\n",
        "  - Impute with the median.\n",
        "\n",
        "3. Is the feature constant or quasi-constant?\n",
        "  - No.\n",
        "\n",
        "4. What is the cardinality? Is it high?\n",
        "  - Not applicable, numeric.\n",
        "\n",
        "5. Would we know this BEFORE the target is determined?\n",
        "  - Yes\n",
        "\n",
        "6. Is there a business case/understanding reason to exclude based on our business case?\n",
        "  - No\n",
        "\n"
      ],
      "metadata": {
        "id": "GwBfO_wTad48"
      }
    },
    {
      "cell_type": "code",
      "source": [
        "# Run the appropriate feature vs. target function (based on dtype)\n",
        "plot_numeric_vs_target(df, feature, 'rating');"
      ],
      "metadata": {
        "colab": {
          "base_uri": "https://localhost:8080/",
          "height": 410
        },
        "id": "sskwL7bdad48",
        "outputId": "19d65ca0-f08c-459c-c133-9ea025905be8"
      },
      "execution_count": null,
      "outputs": [
        {
          "output_type": "display_data",
          "data": {
            "text/plain": [
              "<Figure size 600x400 with 1 Axes>"
            ],
            "image/png": "[encoded data removed]"
          },
          "metadata": {}
        }
      ]
    },
    {
      "cell_type": "markdown",
      "source": [
        "- Feature vs. Target Observations:\n",
        "  - Based on your business understanding, would you expect this feature to be a predictor of the target?\n",
        "    - Yes, I think people would rate sugary cereals higher.\n",
        "  - Does this feature appear to be a predictor of the target?\n",
        "    - Yes, but opposite of what I expected.\n",
        "\n",
        "___"
      ],
      "metadata": {
        "id": "0FIwi7rsad48"
      }
    },
    {
      "cell_type": "markdown",
      "source": [
        "### shelf"
      ],
      "metadata": {
        "id": "NbT7juUwae68"
      }
    },
    {
      "cell_type": "markdown",
      "source": [
        "- shelf: display shelf (1, 2, or 3, counting from the floor)"
      ],
      "metadata": {
        "id": "DGogrvVVae69"
      }
    },
    {
      "cell_type": "code",
      "source": [
        "# Confirming the dtype to select correct EDA function\n",
        "feature = \"shelf\"\n",
        "df[feature].dtype"
      ],
      "metadata": {
        "colab": {
          "base_uri": "https://localhost:8080/"
        },
        "id": "YbgVvKUSae69",
        "outputId": "1314a39b-52cf-439c-99ba-9f7803016f82"
      },
      "execution_count": null,
      "outputs": [
        {
          "output_type": "execute_result",
          "data": {
            "text/plain": [
              "dtype('O')"
            ]
          },
          "metadata": {},
          "execution_count": 28
        }
      ]
    },
    {
      "cell_type": "code",
      "source": [
        "# run the appropriate explore function (based on feature's dtype)\n",
        "explore_categorical(df, feature);"
      ],
      "metadata": {
        "colab": {
          "base_uri": "https://localhost:8080/",
          "height": 478
        },
        "id": "EKmtkr2dae69",
        "outputId": "cc6d7c6c-44c1-4eae-80b7-b7a12901c036"
      },
      "execution_count": null,
      "outputs": [
        {
          "output_type": "display_data",
          "data": {
            "text/plain": [
              "<Figure size 600x400 with 1 Axes>"
            ],
            "image/png": "[encoded data removed]"
          },
          "metadata": {}
        },
        {
          "output_type": "stream",
          "name": "stdout",
          "text": [
            "- NaN's Found: 2 (2.6%)\n",
            "- Unique Values: 4\n",
            "- Most common value: 'top' occurs 35 times (45.45%)\n",
            "- Not constant or quasi-constant.\n"
          ]
        }
      ]
    },
    {
      "cell_type": "markdown",
      "source": [
        "**Feature Observations**\n",
        "\n",
        "1. What type of feature is it? (Categorical (nominal), ordinal, numeric)\n",
        "  - Ordinal. Data Dictionary says it should be integers: 1,2,3 with 1 being closest to the floor)\n",
        "\n",
        "2. How many null values? What percentage? What would you do with the null values (drop the rows? drop the column? impute? if impute, with what?)\n",
        "  - 2 (2.6%)\n",
        "  - Impute with a placeholder (0)\n",
        "\n",
        "3. Is the feature constant or quasi-constant?\n",
        "  - No.\n",
        "\n",
        "4. What is the cardinality? Is it high?\n",
        "  - 4 (including null values). \n",
        "\n",
        "5. Would we know this BEFORE the target is determined?\n",
        "  - Maybe? \n",
        "\n",
        "6. Is there a business case/understanding reason to exclude based on our business case?\n",
        "  - No.\n",
        "\n"
      ],
      "metadata": {
        "id": "wZzlryjYae69"
      }
    },
    {
      "cell_type": "code",
      "source": [
        "# Run the appropriate feature vs. target function (based on dtype)\n",
        "plot_categorical_vs_target(df, feature, 'rating');"
      ],
      "metadata": {
        "colab": {
          "base_uri": "https://localhost:8080/",
          "height": 407
        },
        "id": "ywhfHiMxae69",
        "outputId": "a951e657-24b3-4c14-bf3e-f4478b8ec620"
      },
      "execution_count": null,
      "outputs": [
        {
          "output_type": "display_data",
          "data": {
            "text/plain": [
              "<Figure size 600x400 with 1 Axes>"
            ],
            "image/png": "[encoded data removed]"
          },
          "metadata": {}
        }
      ]
    },
    {
      "cell_type": "markdown",
      "source": [
        "- Feature vs. Target Observations:\n",
        "  - Based on your business understanding, would you expect this feature to be a predictor of the target?\n",
        "    - I am not sure. \n",
        "  - Does this feature appear to be a predictor of the target?\n",
        "    - Yes, it seems that being in the middle shelf is associated with a lower rating.\n",
        "\n",
        "___"
      ],
      "metadata": {
        "id": "KfhpSpUOae69"
      }
    },
    {
      "cell_type": "markdown",
      "source": [
        "### rating (target)"
      ],
      "metadata": {
        "id": "aJYMDvLUaffN"
      }
    },
    {
      "cell_type": "markdown",
      "source": [
        "- rating: a rating of the cereals (Possibly from Consumer Reports?)\n",
        "\n",
        "  "
      ],
      "metadata": {
        "id": "45okcCQqaffN"
      }
    },
    {
      "cell_type": "code",
      "source": [
        "# Confirming the dtype to select correct EDA function\n",
        "feature = \"rating\"\n",
        "df[feature].dtype"
      ],
      "metadata": {
        "colab": {
          "base_uri": "https://localhost:8080/"
        },
        "id": "UnI1rJLSaffN",
        "outputId": "0f790cc9-0953-470f-f82a-aad822afdbda"
      },
      "execution_count": null,
      "outputs": [
        {
          "output_type": "execute_result",
          "data": {
            "text/plain": [
              "dtype('float64')"
            ]
          },
          "metadata": {},
          "execution_count": 31
        }
      ]
    },
    {
      "cell_type": "code",
      "source": [
        "# run the appropriate explore function (based on feature's dtype)\n",
        "explore_numeric(df, feature);"
      ],
      "metadata": {
        "colab": {
          "base_uri": "https://localhost:8080/",
          "height": 577
        },
        "id": "7mDMMbg9affO",
        "outputId": "e518b1a1-7ade-4523-9b53-fabbe11fc02e"
      },
      "execution_count": null,
      "outputs": [
        {
          "output_type": "display_data",
          "data": {
            "text/plain": [
              "<Figure size 600x500 with 2 Axes>"
            ],
            "image/png": "[encoded data removed]"
          },
          "metadata": {}
        },
        {
          "output_type": "stream",
          "name": "stdout",
          "text": [
            "- NaN's Found: 0 (0.0%)\n",
            "- Unique Values: 77\n",
            "- Most common value: '68.402973' occurs 1 times (1.3%)\n",
            "- Not constant or quasi-constant.\n"
          ]
        }
      ]
    },
    {
      "cell_type": "markdown",
      "source": [
        "**Feature Observations**\n",
        "\n",
        "1. What type of feature is it? (Categorical (nominal), ordinal, numeric)\n",
        "  - numeric. our target!\n",
        "\n",
        "2. How many null values? What percentage? What would you do with the null values (drop the rows? drop the column? impute? if impute, with what?)\n",
        "  - 0\n",
        "\n",
        "3. Is the feature constant or quasi-constant?\n",
        "  - Not a feature! \n",
        "\n",
        "4. What is the cardinality? Is it high?\n",
        "  - N/A - numeric.\n",
        "\n",
        "5. Would we know this BEFORE the target is determined?\n",
        "  - Yes, since it IS our target!\n",
        "\n",
        "6. Is there a business case/understanding reason to exclude based on our business case?\n",
        "  - Yes, its our target!\n",
        "\n"
      ],
      "metadata": {
        "id": "QIi-FEOJaffO"
      }
    },
    {
      "cell_type": "markdown",
      "source": [
        "___\n",
        "<a name='new'></a>\n",
        "# ⭐️ SimpleImputer Exercise (Practice)"
      ],
      "metadata": {
        "id": "_0pBoxZUmtuW"
      }
    },
    {
      "cell_type": "markdown",
      "source": [
        "## Instructions from LP"
      ],
      "metadata": {
        "id": "nuHSXW68VgdE"
      }
    },
    {
      "cell_type": "markdown",
      "source": [
        "<table style=\"background-color: rgb(13,32,76); border-radius: 10px\">\n",
        "\t<thead>\n",
        "\t\t<tr>\n",
        "\t\t\t<th colspan=\"2\" style=\"border: hidden; vertical-align: top;\" width=\"15%\"><img src=\"https://assets.codingdojo.com/boomyeah2015/codingdojo/curriculum/content/chapter/1674755226__Icons_400px_Practice Assignment.png\">\n",
        "\t\t\t</th>\n",
        "\t\t\t<th style=\"border: hidden;\">\n",
        "\t\t\t\t<h1 style=\"color: white;\">SimpleImputer Exercise (Practice)</h1>\n",
        "\t\t\t</th>\n",
        "\t\t</tr>\n",
        "\t</thead>\n",
        "</table>\n",
        "<h1>SimpleImputer Exercise</h1>\n",
        "<h2>Instructions</h2>\n",
        "<p>For this task, you will continue working with the <a href=\"https://drive.google.com/file/d/1-17RJeMvb7Ruak-NBLnLleQYL_4tOQn_/view?usp=share_link\">modified version of the cereals dataset.</a> You can find the <a href=\"https://www.kaggle.com/datasets/crawford/80-cereals\">data dictionary on Kaggle.</a></p>\n",
        "<p>This dataset shows popular cereals by brand and manufacturer, along with nutrition facts. The machine learning question is:</p>\n",
        "<p><em><strong>How well can the \"rating\" of cereal be predicted using the following features?</strong></em></p>\n",
        "<ul>\n",
        "<li>mfr, type, calories, protein, fat, fiber, sugars, shelf</li>\n",
        "</ul>\n",
        "<p>In the Feature Inspection practice assignment, you performed EDA and took notes on your observations for every feature in the dataset.</p>\n",
        "<p><strong>For this assignment, you will start pre-processing the data for modeling.</strong> You will apply the additional steps to prepare the data for modeling and address the business question over several practice assignments.</p>\n",
        "<h2>Task</h2>\n",
        "<p>\n",
        "</p>\n",
        "<p><strong><u>Continue working in your previous notebook from the Feature Inspection Exercise.</u></strong></p>\n",
        "<ul>\n",
        "<li><strong>Note: if you did not complete the previous practice assignment,</strong> return to the previous assignment page and make a copy of the assignment solution notebook at the bottom to use as your starter notebook.</li>\n",
        "</ul>\n",
        "<ul>\n",
        "<li><strong>Add a new H1 header for this assignment</strong> at the bottom of your current notebook (e.g., # SimpleImputer Exercise ).</li>\n",
        "</ul>\n",
        "<p><strong><u>Import the new requirements/tools</u></strong></p>\n",
        "<ul>\n",
        "<li>Import <code>set_config</code> from sklearn and run the transform_output='pandas' command.</li>\n",
        "<li>Import <code>train_test_split</code> from sklearn.model_selection</li>\n",
        "<li>Import <code>SimpleImputer</code> from sklearn.impute</li>\n",
        "</ul>\n",
        "<p><strong><u>Define target and features and train-test-split:</u></strong></p>\n",
        "<ul>\n",
        "<li><p>Define features (X) and target (y).</p>\n",
        "<ul>\n",
        "<li>X should be the same features that you inspected in the last assignment: mfr, type, calories, protein, fat, fiber, sugars, shelf</li>\n",
        "<li>y should be 'rating'</li>\n",
        "</ul>\n",
        "</li>\n",
        "</ul>\n",
        "<ul>\n",
        "<li>Train test split the data to prepare for machine learning (use a random state of 42 for reproducibility).</li>\n",
        "<li>Display the number of null values in X_train.</li>\n",
        "<li>Display the data types for X_train.</li>\n",
        "</ul>\n",
        "<p><strong><u>Define groups of features using lists:</u></strong></p>\n",
        "<ul>\n",
        "<li><p>Use the observations from your feature inspection to define 3 lists containing the column names for that belong in each type of feature:</p>\n",
        "<ul>\n",
        "<li><code>numeric_cols</code></li>\n",
        "<li><code>categorical_cols</code></li>\n",
        "<li><code>ordinal_cols</code> (hint: there should only be 1 oridnal).</li>\n",
        "</ul>\n",
        "</li>\n",
        "</ul>\n",
        "<p><strong><u>Impute the numeric columns</u></strong></p>\n",
        "<ul>\n",
        "<li>Instantiate a SimpleImputer for your numeric features that will use \"median\" as the strategy.</li>\n",
        "<li>Fit the simple imputer on the features in <code>numeric_cols</code></li>\n",
        "<li>Transform the training data's numeric_cols and save the transformed data as \"X_train_num_imputed\"</li>\n",
        "<li>Transform the test data's numeric_cols and save the transformed data as \"X_test_num_imputed\"</li><li>Confirm there are 0 null values in X_train_num_imputed</li>\n",
        "</ul>\n",
        "<p><strong><u>Impute the categorical features</u></strong></p>\n",
        "<ul>\n",
        "<li>Instantiate a SimpleImputer for your categorical features that will use a \"constant\" strategy with a fill value of \"MISSING.\"</li>\n",
        "<li>Fit the simple imputer on the features in <code>categorical_cols</code></li>\n",
        "<li>Transform the training data's categorical_cols and save the transformed data as \"X_train_cat_imputed\"</li>\n",
        "<li>Transform the test data's categorical_cols and save the transformed data as \"X_test_cat_imputed\"</li><li>Confirm there are 0 null values in X_train_cat_imputed</li></ul>\n",
        "<p><strong><u>Impute the ordinal features</u></strong></p>\n",
        "<ul>\n",
        "<li>Instantiate a SimpleImputer for your ordinal features that will use the \"most_frequent\" strategy.</li>\n",
        "<li>Fit the simple imputer on the features in <code>ordinal_cols</code></li>\n",
        "<li>Transform the training data's ordinal_cols and save the transformed data as \"X_train_ord_imputed\"</li>\n",
        "<li>Transform the test data's ordinal_cols and save the transformed data as \"X_test_ord_imputed\"</li><li>Confirm there are 0 null values in X_train_ord_imputed</li>\n",
        "</ul>\n",
        "<p>Then save your notebook and use File &gt; Download &gt; Download Notebook (.ipynb) and upload your notebook as your submission for this assignment.</p>\n",
        "\n",
        "___"
      ],
      "metadata": {
        "id": "p156C8lWA-w4"
      }
    },
    {
      "cell_type": "markdown",
      "source": [
        "## Solution Code"
      ],
      "metadata": {
        "id": "wm-86DIOViNs"
      }
    },
    {
      "cell_type": "code",
      "source": [
        "from sklearn.model_selection import train_test_split\n",
        "from sklearn.impute import SimpleImputer\n",
        "from sklearn import set_config\n",
        "set_config(transform_output='pandas')"
      ],
      "metadata": {
        "id": "WUPHqFRLmwF2"
      },
      "execution_count": null,
      "outputs": []
    },
    {
      "cell_type": "markdown",
      "source": [
        "### Define target and features and train-test-split:"
      ],
      "metadata": {
        "id": "1p8YrXRynfs_"
      }
    },
    {
      "cell_type": "code",
      "source": [
        "# Define features (X) and target (y).\n",
        "X = df.drop(columns='rating')\n",
        "y = df['rating']"
      ],
      "metadata": {
        "id": "RE7zc95VnB6Q"
      },
      "execution_count": null,
      "outputs": []
    },
    {
      "cell_type": "code",
      "source": [
        "## Train test split\n",
        "X_train, X_test, y_train, y_test = train_test_split(X,y,random_state=42)\n",
        "X_train.head()"
      ],
      "metadata": {
        "colab": {
          "base_uri": "https://localhost:8080/",
          "height": 206
        },
        "id": "8PAlpaeznEgC",
        "outputId": "f6628d6a-5978-4c60-c0d6-35cb09629a88"
      },
      "execution_count": null,
      "outputs": [
        {
          "output_type": "execute_result",
          "data": {
            "text/plain": [
              "   mfr type  calories  protein  fat  fiber  sugars   shelf\n",
              "30   P    C     100.0        2  0.0    0.0    15.0  bottom\n",
              "40   G    C     110.0        2  1.0    0.0     3.0  middle\n",
              "39   K    C     140.0        3  1.0    2.0     9.0     top\n",
              "16   K    C     100.0        2  0.0    1.0     2.0  bottom\n",
              "65   N    C      90.0        3  0.0    3.0     0.0  bottom"
            ],
            "text/html": [
              "\n",
              "  <div id=\"df-528dcfc4-5599-4d36-b50d-e4d0521b7422\">\n",
              "    <div class=\"colab-df-container\">\n",
              "      <div>\n",
              "<style scoped>\n",
              "    .dataframe tbody tr th:only-of-type {\n",
              "        vertical-align: middle;\n",
              "    }\n",
              "\n",
              "    .dataframe tbody tr th {\n",
              "        vertical-align: top;\n",
              "    }\n",
              "\n",
              "    .dataframe thead th {\n",
              "        text-align: right;\n",
              "    }\n",
              "</style>\n",
              "<table border=\"1\" class=\"dataframe\">\n",
              "  <thead>\n",
              "    <tr style=\"text-align: right;\">\n",
              "      <th></th>\n",
              "      <th>mfr</th>\n",
              "      <th>type</th>\n",
              "      <th>calories</th>\n",
              "      <th>protein</th>\n",
              "      <th>fat</th>\n",
              "      <th>fiber</th>\n",
              "      <th>sugars</th>\n",
              "      <th>shelf</th>\n",
              "    </tr>\n",
              "  </thead>\n",
              "  <tbody>\n",
              "    <tr>\n",
              "      <th>30</th>\n",
              "      <td>P</td>\n",
              "      <td>C</td>\n",
              "      <td>100.0</td>\n",
              "      <td>2</td>\n",
              "      <td>0.0</td>\n",
              "      <td>0.0</td>\n",
              "      <td>15.0</td>\n",
              "      <td>bottom</td>\n",
              "    </tr>\n",
              "    <tr>\n",
              "      <th>40</th>\n",
              "      <td>G</td>\n",
              "      <td>C</td>\n",
              "      <td>110.0</td>\n",
              "      <td>2</td>\n",
              "      <td>1.0</td>\n",
              "      <td>0.0</td>\n",
              "      <td>3.0</td>\n",
              "      <td>middle</td>\n",
              "    </tr>\n",
              "    <tr>\n",
              "      <th>39</th>\n",
              "      <td>K</td>\n",
              "      <td>C</td>\n",
              "      <td>140.0</td>\n",
              "      <td>3</td>\n",
              "      <td>1.0</td>\n",
              "      <td>2.0</td>\n",
              "      <td>9.0</td>\n",
              "      <td>top</td>\n",
              "    </tr>\n",
              "    <tr>\n",
              "      <th>16</th>\n",
              "      <td>K</td>\n",
              "      <td>C</td>\n",
              "      <td>100.0</td>\n",
              "      <td>2</td>\n",
              "      <td>0.0</td>\n",
              "      <td>1.0</td>\n",
              "      <td>2.0</td>\n",
              "      <td>bottom</td>\n",
              "    </tr>\n",
              "    <tr>\n",
              "      <th>65</th>\n",
              "      <td>N</td>\n",
              "      <td>C</td>\n",
              "      <td>90.0</td>\n",
              "      <td>3</td>\n",
              "      <td>0.0</td>\n",
              "      <td>3.0</td>\n",
              "      <td>0.0</td>\n",
              "      <td>bottom</td>\n",
              "    </tr>\n",
              "  </tbody>\n",
              "</table>\n",
              "</div>\n",
              "      <button class=\"colab-df-convert\" onclick=\"convertToInteractive('df-528dcfc4-5599-4d36-b50d-e4d0521b7422')\"\n",
              "              title=\"Convert this dataframe to an interactive table.\"\n",
              "              style=\"display:none;\">\n",
              "        \n",
              "  <svg xmlns=\"http://www.w3.org/2000/svg\" height=\"24px\"viewBox=\"0 0 24 24\"\n",
              "       width=\"24px\">\n",
              "    <path d=\"M0 0h24v24H0V0z\" fill=\"none\"/>\n",
              "    <path d=\"M18.56 5.44l.94 2.06.94-2.06 2.06-.94-2.06-.94-.94-2.06-.94 2.06-2.06.94zm-11 1L8.5 8.5l.94-2.06 2.06-.94-2.06-.94L8.5 2.5l-.94 2.06-2.06.94zm10 10l.94 2.06.94-2.06 2.06-.94-2.06-.94-.94-2.06-.94 2.06-2.06.94z\"/><path d=\"M17.41 7.96l-1.37-1.37c-.4-.4-.92-.59-1.43-.59-.52 0-1.04.2-1.43.59L10.3 9.45l-7.72 7.72c-.78.78-.78 2.05 0 2.83L4 21.41c.39.39.9.59 1.41.59.51 0 1.02-.2 1.41-.59l7.78-7.78 2.81-2.81c.8-.78.8-2.07 0-2.86zM5.41 20L4 18.59l7.72-7.72 1.47 1.35L5.41 20z\"/>\n",
              "  </svg>\n",
              "      </button>\n",
              "      \n",
              "  <style>\n",
              "    .colab-df-container {\n",
              "      display:flex;\n",
              "      flex-wrap:wrap;\n",
              "      gap: 12px;\n",
              "    }\n",
              "\n",
              "    .colab-df-convert {\n",
              "      background-color: #E8F0FE;\n",
              "      border: none;\n",
              "      border-radius: 50%;\n",
              "      cursor: pointer;\n",
              "      display: none;\n",
              "      fill: #1967D2;\n",
              "      height: 32px;\n",
              "      padding: 0 0 0 0;\n",
              "      width: 32px;\n",
              "    }\n",
              "\n",
              "    .colab-df-convert:hover {\n",
              "      background-color: #E2EBFA;\n",
              "      box-shadow: 0px 1px 2px rgba(60, 64, 67, 0.3), 0px 1px 3px 1px rgba(60, 64, 67, 0.15);\n",
              "      fill: #174EA6;\n",
              "    }\n",
              "\n",
              "    [theme=dark] .colab-df-convert {\n",
              "      background-color: #3B4455;\n",
              "      fill: #D2E3FC;\n",
              "    }\n",
              "\n",
              "    [theme=dark] .colab-df-convert:hover {\n",
              "      background-color: #434B5C;\n",
              "      box-shadow: 0px 1px 3px 1px rgba(0, 0, 0, 0.15);\n",
              "      filter: drop-shadow(0px 1px 2px rgba(0, 0, 0, 0.3));\n",
              "      fill: #FFFFFF;\n",
              "    }\n",
              "  </style>\n",
              "\n",
              "      <script>\n",
              "        const buttonEl =\n",
              "          document.querySelector('#df-528dcfc4-5599-4d36-b50d-e4d0521b7422 button.colab-df-convert');\n",
              "        buttonEl.style.display =\n",
              "          google.colab.kernel.accessAllowed ? 'block' : 'none';\n",
              "\n",
              "        async function convertToInteractive(key) {\n",
              "          const element = document.querySelector('#df-528dcfc4-5599-4d36-b50d-e4d0521b7422');\n",
              "          const dataTable =\n",
              "            await google.colab.kernel.invokeFunction('convertToInteractive',\n",
              "                                                     [key], {});\n",
              "          if (!dataTable) return;\n",
              "\n",
              "          const docLinkHtml = 'Like what you see? Visit the ' +\n",
              "            '<a target=\"_blank\" href=https://colab.research.google.com/notebooks/data_table.ipynb>data table notebook</a>'\n",
              "            + ' to learn more about interactive tables.';\n",
              "          element.innerHTML = '';\n",
              "          dataTable['output_type'] = 'display_data';\n",
              "          await google.colab.output.renderOutput(dataTable, element);\n",
              "          const docLink = document.createElement('div');\n",
              "          docLink.innerHTML = docLinkHtml;\n",
              "          element.appendChild(docLink);\n",
              "        }\n",
              "      </script>\n",
              "    </div>\n",
              "  </div>\n",
              "  "
            ]
          },
          "metadata": {},
          "execution_count": 35
        }
      ]
    },
    {
      "cell_type": "code",
      "source": [
        "# Check # of null values in X_train\n",
        "X_train.isna().sum()"
      ],
      "metadata": {
        "colab": {
          "base_uri": "https://localhost:8080/"
        },
        "id": "GyUL7hRpnhok",
        "outputId": "65c75968-db8f-47ca-b3df-80462b38a63b"
      },
      "execution_count": null,
      "outputs": [
        {
          "output_type": "execute_result",
          "data": {
            "text/plain": [
              "mfr         2\n",
              "type        0\n",
              "calories    0\n",
              "protein     0\n",
              "fat         5\n",
              "fiber       5\n",
              "sugars      5\n",
              "shelf       0\n",
              "dtype: int64"
            ]
          },
          "metadata": {},
          "execution_count": 36
        }
      ]
    },
    {
      "cell_type": "code",
      "source": [
        "# Check X_train dtypes\n",
        "X_train.dtypes"
      ],
      "metadata": {
        "colab": {
          "base_uri": "https://localhost:8080/"
        },
        "id": "tEmALrbonl-S",
        "outputId": "9756034c-7ce7-4aee-beda-742da75d34f6"
      },
      "execution_count": null,
      "outputs": [
        {
          "output_type": "execute_result",
          "data": {
            "text/plain": [
              "mfr          object\n",
              "type         object\n",
              "calories    float64\n",
              "protein       int64\n",
              "fat         float64\n",
              "fiber       float64\n",
              "sugars      float64\n",
              "shelf        object\n",
              "dtype: object"
            ]
          },
          "metadata": {},
          "execution_count": 37
        }
      ]
    },
    {
      "cell_type": "markdown",
      "source": [
        "### Define groups of features using lists:\n",
        "\n"
      ],
      "metadata": {
        "id": "R-bbr9Q-ntru"
      }
    },
    {
      "cell_type": "code",
      "source": [
        "numeric_cols = X_train.select_dtypes('number').columns\n",
        "numeric_cols"
      ],
      "metadata": {
        "colab": {
          "base_uri": "https://localhost:8080/"
        },
        "id": "GAtxZ-35nott",
        "outputId": "79d4d953-7fa1-4686-9413-c4147278acae"
      },
      "execution_count": null,
      "outputs": [
        {
          "output_type": "execute_result",
          "data": {
            "text/plain": [
              "Index(['calories', 'protein', 'fat', 'fiber', 'sugars'], dtype='object')"
            ]
          },
          "metadata": {},
          "execution_count": 38
        }
      ]
    },
    {
      "cell_type": "code",
      "source": [
        "ordinal_cols = ['shelf']\n",
        "ordinal_cols"
      ],
      "metadata": {
        "colab": {
          "base_uri": "https://localhost:8080/"
        },
        "id": "zsWzhbNxn7uz",
        "outputId": "380a4ff3-6c29-41bb-88de-e73a07a21424"
      },
      "execution_count": null,
      "outputs": [
        {
          "output_type": "execute_result",
          "data": {
            "text/plain": [
              "['shelf']"
            ]
          },
          "metadata": {},
          "execution_count": 39
        }
      ]
    },
    {
      "cell_type": "code",
      "source": [
        "categorical_cols = X_train.select_dtypes('object').drop(columns='shelf').columns\n",
        "categorical_cols"
      ],
      "metadata": {
        "colab": {
          "base_uri": "https://localhost:8080/"
        },
        "id": "TSyOD60An9ic",
        "outputId": "0eb01fce-a922-46b6-a6b4-c4cab47d03ab"
      },
      "execution_count": null,
      "outputs": [
        {
          "output_type": "execute_result",
          "data": {
            "text/plain": [
              "Index(['mfr', 'type'], dtype='object')"
            ]
          },
          "metadata": {},
          "execution_count": 40
        }
      ]
    },
    {
      "cell_type": "markdown",
      "source": [
        "### Impute the numeric columns"
      ],
      "metadata": {
        "id": "E2s63mgSoCiE"
      }
    },
    {
      "cell_type": "code",
      "source": [
        "from sklearn.impute import SimpleImputer"
      ],
      "metadata": {
        "id": "HEt7Z3vWn5nH"
      },
      "execution_count": null,
      "outputs": []
    },
    {
      "cell_type": "code",
      "source": [
        "# Instantaite and fit the imputer for numeric features\n",
        "impute_median = SimpleImputer(strategy='median')\n",
        "impute_median.fit(X_train[numeric_cols])"
      ],
      "metadata": {
        "colab": {
          "base_uri": "https://localhost:8080/",
          "height": 75
        },
        "id": "LZtnx1GjoGUg",
        "outputId": "2740b632-de24-46eb-83c9-c4e40fb6bf21"
      },
      "execution_count": null,
      "outputs": [
        {
          "output_type": "execute_result",
          "data": {
            "text/plain": [
              "SimpleImputer(strategy='median')"
            ],
            "text/html": [
              "<style>#sk-container-id-1 {color: black;background-color: white;}#sk-container-id-1 pre{padding: 0;}#sk-container-id-1 div.sk-toggleable {background-color: white;}#sk-container-id-1 label.sk-toggleable__label {cursor: pointer;display: block;width: 100%;margin-bottom: 0;padding: 0.3em;box-sizing: border-box;text-align: center;}#sk-container-id-1 label.sk-toggleable__label-arrow:before {content: \"▸\";float: left;margin-right: 0.25em;color: #696969;}#sk-container-id-1 label.sk-toggleable__label-arrow:hover:before {color: black;}#sk-container-id-1 div.sk-estimator:hover label.sk-toggleable__label-arrow:before {color: black;}#sk-container-id-1 div.sk-toggleable__content {max-height: 0;max-width: 0;overflow: hidden;text-align: left;background-color: #f0f8ff;}#sk-container-id-1 div.sk-toggleable__content pre {margin: 0.2em;color: black;border-radius: 0.25em;background-color: #f0f8ff;}#sk-container-id-1 input.sk-toggleable__control:checked~div.sk-toggleable__content {max-height: 200px;max-width: 100%;overflow: auto;}#sk-container-id-1 input.sk-toggleable__control:checked~label.sk-toggleable__label-arrow:before {content: \"▾\";}#sk-container-id-1 div.sk-estimator input.sk-toggleable__control:checked~label.sk-toggleable__label {background-color: #d4ebff;}#sk-container-id-1 div.sk-label input.sk-toggleable__control:checked~label.sk-toggleable__label {background-color: #d4ebff;}#sk-container-id-1 input.sk-hidden--visually {border: 0;clip: rect(1px 1px 1px 1px);clip: rect(1px, 1px, 1px, 1px);height: 1px;margin: -1px;overflow: hidden;padding: 0;position: absolute;width: 1px;}#sk-container-id-1 div.sk-estimator {font-family: monospace;background-color: #f0f8ff;border: 1px dotted black;border-radius: 0.25em;box-sizing: border-box;margin-bottom: 0.5em;}#sk-container-id-1 div.sk-estimator:hover {background-color: #d4ebff;}#sk-container-id-1 div.sk-parallel-item::after {content: \"\";width: 100%;border-bottom: 1px solid gray;flex-grow: 1;}#sk-container-id-1 div.sk-label:hover label.sk-toggleable__label {background-color: #d4ebff;}#sk-container-id-1 div.sk-serial::before {content: \"\";position: absolute;border-left: 1px solid gray;box-sizing: border-box;top: 0;bottom: 0;left: 50%;z-index: 0;}#sk-container-id-1 div.sk-serial {display: flex;flex-direction: column;align-items: center;background-color: white;padding-right: 0.2em;padding-left: 0.2em;position: relative;}#sk-container-id-1 div.sk-item {position: relative;z-index: 1;}#sk-container-id-1 div.sk-parallel {display: flex;align-items: stretch;justify-content: center;background-color: white;position: relative;}#sk-container-id-1 div.sk-item::before, #sk-container-id-1 div.sk-parallel-item::before {content: \"\";position: absolute;border-left: 1px solid gray;box-sizing: border-box;top: 0;bottom: 0;left: 50%;z-index: -1;}#sk-container-id-1 div.sk-parallel-item {display: flex;flex-direction: column;z-index: 1;position: relative;background-color: white;}#sk-container-id-1 div.sk-parallel-item:first-child::after {align-self: flex-end;width: 50%;}#sk-container-id-1 div.sk-parallel-item:last-child::after {align-self: flex-start;width: 50%;}#sk-container-id-1 div.sk-parallel-item:only-child::after {width: 0;}#sk-container-id-1 div.sk-dashed-wrapped {border: 1px dashed gray;margin: 0 0.4em 0.5em 0.4em;box-sizing: border-box;padding-bottom: 0.4em;background-color: white;}#sk-container-id-1 div.sk-label label {font-family: monospace;font-weight: bold;display: inline-block;line-height: 1.2em;}#sk-container-id-1 div.sk-label-container {text-align: center;}#sk-container-id-1 div.sk-container {/* jupyter's `normalize.less` sets `[hidden] { display: none; }` but bootstrap.min.css set `[hidden] { display: none !important; }` so we also need the `!important` here to be able to override the default hidden behavior on the sphinx rendered scikit-learn.org. See: https://github.com/scikit-learn/scikit-learn/issues/21755 */display: inline-block !important;position: relative;}#sk-container-id-1 div.sk-text-repr-fallback {display: none;}</style><div id=\"sk-container-id-1\" class=\"sk-top-container\"><div class=\"sk-text-repr-fallback\"><pre>SimpleImputer(strategy=&#x27;median&#x27;)</pre><b>In a Jupyter environment, please rerun this cell to show the HTML representation or trust the notebook. <br />On GitHub, the HTML representation is unable to render, please try loading this page with nbviewer.org.</b></div><div class=\"sk-container\" hidden><div class=\"sk-item\"><div class=\"sk-estimator sk-toggleable\"><input class=\"sk-toggleable__control sk-hidden--visually\" id=\"sk-estimator-id-1\" type=\"checkbox\" checked><label for=\"sk-estimator-id-1\" class=\"sk-toggleable__label sk-toggleable__label-arrow\">SimpleImputer</label><div class=\"sk-toggleable__content\"><pre>SimpleImputer(strategy=&#x27;median&#x27;)</pre></div></div></div></div></div>"
            ]
          },
          "metadata": {},
          "execution_count": 42
        }
      ]
    },
    {
      "cell_type": "code",
      "source": [
        "# Transform the training and test numeric features and save as new vars\n",
        "X_train_num_imputed = impute_median.transform(X_train[numeric_cols])\n",
        "X_test_num_imputed = impute_median.transform(X_test[numeric_cols])\n",
        "\n",
        "# confirm no null values remaining\n",
        "X_train_num_imputed.isna().sum()"
      ],
      "metadata": {
        "colab": {
          "base_uri": "https://localhost:8080/"
        },
        "id": "rOP3cK4foR1o",
        "outputId": "910a53fe-aa88-42a1-97f5-f0fbb357930b"
      },
      "execution_count": null,
      "outputs": [
        {
          "output_type": "execute_result",
          "data": {
            "text/plain": [
              "calories    0\n",
              "protein     0\n",
              "fat         0\n",
              "fiber       0\n",
              "sugars      0\n",
              "dtype: int64"
            ]
          },
          "metadata": {},
          "execution_count": 43
        }
      ]
    },
    {
      "cell_type": "code",
      "source": [],
      "metadata": {
        "id": "VuRS_pETpeGD"
      },
      "execution_count": null,
      "outputs": []
    },
    {
      "cell_type": "markdown",
      "source": [
        "### Impute the categorical columns"
      ],
      "metadata": {
        "id": "r5fNrhGsqCw8"
      }
    },
    {
      "cell_type": "code",
      "source": [
        "# Instantaite and fit the imputer for categorical features\n",
        "impute_missing = SimpleImputer(strategy='constant', fill_value='MISSING')\n",
        "impute_missing.fit(X_train[categorical_cols])"
      ],
      "metadata": {
        "colab": {
          "base_uri": "https://localhost:8080/",
          "height": 75
        },
        "outputId": "f74efea3-f6e1-4b95-ce28-7f7318735c6a",
        "id": "gpjZilisqCw8"
      },
      "execution_count": null,
      "outputs": [
        {
          "output_type": "execute_result",
          "data": {
            "text/plain": [
              "SimpleImputer(fill_value='MISSING', strategy='constant')"
            ],
            "text/html": [
              "<style>#sk-container-id-2 {color: black;background-color: white;}#sk-container-id-2 pre{padding: 0;}#sk-container-id-2 div.sk-toggleable {background-color: white;}#sk-container-id-2 label.sk-toggleable__label {cursor: pointer;display: block;width: 100%;margin-bottom: 0;padding: 0.3em;box-sizing: border-box;text-align: center;}#sk-container-id-2 label.sk-toggleable__label-arrow:before {content: \"▸\";float: left;margin-right: 0.25em;color: #696969;}#sk-container-id-2 label.sk-toggleable__label-arrow:hover:before {color: black;}#sk-container-id-2 div.sk-estimator:hover label.sk-toggleable__label-arrow:before {color: black;}#sk-container-id-2 div.sk-toggleable__content {max-height: 0;max-width: 0;overflow: hidden;text-align: left;background-color: #f0f8ff;}#sk-container-id-2 div.sk-toggleable__content pre {margin: 0.2em;color: black;border-radius: 0.25em;background-color: #f0f8ff;}#sk-container-id-2 input.sk-toggleable__control:checked~div.sk-toggleable__content {max-height: 200px;max-width: 100%;overflow: auto;}#sk-container-id-2 input.sk-toggleable__control:checked~label.sk-toggleable__label-arrow:before {content: \"▾\";}#sk-container-id-2 div.sk-estimator input.sk-toggleable__control:checked~label.sk-toggleable__label {background-color: #d4ebff;}#sk-container-id-2 div.sk-label input.sk-toggleable__control:checked~label.sk-toggleable__label {background-color: #d4ebff;}#sk-container-id-2 input.sk-hidden--visually {border: 0;clip: rect(1px 1px 1px 1px);clip: rect(1px, 1px, 1px, 1px);height: 1px;margin: -1px;overflow: hidden;padding: 0;position: absolute;width: 1px;}#sk-container-id-2 div.sk-estimator {font-family: monospace;background-color: #f0f8ff;border: 1px dotted black;border-radius: 0.25em;box-sizing: border-box;margin-bottom: 0.5em;}#sk-container-id-2 div.sk-estimator:hover {background-color: #d4ebff;}#sk-container-id-2 div.sk-parallel-item::after {content: \"\";width: 100%;border-bottom: 1px solid gray;flex-grow: 1;}#sk-container-id-2 div.sk-label:hover label.sk-toggleable__label {background-color: #d4ebff;}#sk-container-id-2 div.sk-serial::before {content: \"\";position: absolute;border-left: 1px solid gray;box-sizing: border-box;top: 0;bottom: 0;left: 50%;z-index: 0;}#sk-container-id-2 div.sk-serial {display: flex;flex-direction: column;align-items: center;background-color: white;padding-right: 0.2em;padding-left: 0.2em;position: relative;}#sk-container-id-2 div.sk-item {position: relative;z-index: 1;}#sk-container-id-2 div.sk-parallel {display: flex;align-items: stretch;justify-content: center;background-color: white;position: relative;}#sk-container-id-2 div.sk-item::before, #sk-container-id-2 div.sk-parallel-item::before {content: \"\";position: absolute;border-left: 1px solid gray;box-sizing: border-box;top: 0;bottom: 0;left: 50%;z-index: -1;}#sk-container-id-2 div.sk-parallel-item {display: flex;flex-direction: column;z-index: 1;position: relative;background-color: white;}#sk-container-id-2 div.sk-parallel-item:first-child::after {align-self: flex-end;width: 50%;}#sk-container-id-2 div.sk-parallel-item:last-child::after {align-self: flex-start;width: 50%;}#sk-container-id-2 div.sk-parallel-item:only-child::after {width: 0;}#sk-container-id-2 div.sk-dashed-wrapped {border: 1px dashed gray;margin: 0 0.4em 0.5em 0.4em;box-sizing: border-box;padding-bottom: 0.4em;background-color: white;}#sk-container-id-2 div.sk-label label {font-family: monospace;font-weight: bold;display: inline-block;line-height: 1.2em;}#sk-container-id-2 div.sk-label-container {text-align: center;}#sk-container-id-2 div.sk-container {/* jupyter's `normalize.less` sets `[hidden] { display: none; }` but bootstrap.min.css set `[hidden] { display: none !important; }` so we also need the `!important` here to be able to override the default hidden behavior on the sphinx rendered scikit-learn.org. See: https://github.com/scikit-learn/scikit-learn/issues/21755 */display: inline-block !important;position: relative;}#sk-container-id-2 div.sk-text-repr-fallback {display: none;}</style><div id=\"sk-container-id-2\" class=\"sk-top-container\"><div class=\"sk-text-repr-fallback\"><pre>SimpleImputer(fill_value=&#x27;MISSING&#x27;, strategy=&#x27;constant&#x27;)</pre><b>In a Jupyter environment, please rerun this cell to show the HTML representation or trust the notebook. <br />On GitHub, the HTML representation is unable to render, please try loading this page with nbviewer.org.</b></div><div class=\"sk-container\" hidden><div class=\"sk-item\"><div class=\"sk-estimator sk-toggleable\"><input class=\"sk-toggleable__control sk-hidden--visually\" id=\"sk-estimator-id-2\" type=\"checkbox\" checked><label for=\"sk-estimator-id-2\" class=\"sk-toggleable__label sk-toggleable__label-arrow\">SimpleImputer</label><div class=\"sk-toggleable__content\"><pre>SimpleImputer(fill_value=&#x27;MISSING&#x27;, strategy=&#x27;constant&#x27;)</pre></div></div></div></div></div>"
            ]
          },
          "metadata": {},
          "execution_count": 44
        }
      ]
    },
    {
      "cell_type": "code",
      "source": [
        "# Transform the training and test categorical features and save as new vars\n",
        "X_train_cat_imputed = impute_missing.transform(X_train[categorical_cols])\n",
        "X_test_cat_imputed = impute_missing.transform(X_test[categorical_cols])\n",
        "\n",
        "# confirm no null values remaining\n",
        "X_train_cat_imputed.isna().sum()"
      ],
      "metadata": {
        "colab": {
          "base_uri": "https://localhost:8080/"
        },
        "outputId": "353173ec-3336-4262-a804-741901068c7a",
        "id": "hPnIM4a8qCw8"
      },
      "execution_count": null,
      "outputs": [
        {
          "output_type": "execute_result",
          "data": {
            "text/plain": [
              "mfr     0\n",
              "type    0\n",
              "dtype: int64"
            ]
          },
          "metadata": {},
          "execution_count": 45
        }
      ]
    },
    {
      "cell_type": "markdown",
      "source": [
        "### Impute the ordinal column"
      ],
      "metadata": {
        "id": "NbwECM0QqXPP"
      }
    },
    {
      "cell_type": "code",
      "source": [
        "# Instantaite and fit the imputer for categorical features\n",
        "impute_most_freq = SimpleImputer(strategy='most_frequent')\n",
        "impute_most_freq.fit(X_train[ordinal_cols])"
      ],
      "metadata": {
        "colab": {
          "base_uri": "https://localhost:8080/",
          "height": 75
        },
        "outputId": "56239499-2e4d-438c-93b5-d16b5ac9335f",
        "id": "F7NYBZpKqXPY"
      },
      "execution_count": null,
      "outputs": [
        {
          "output_type": "execute_result",
          "data": {
            "text/plain": [
              "SimpleImputer(strategy='most_frequent')"
            ],
            "text/html": [
              "<style>#sk-container-id-3 {color: black;background-color: white;}#sk-container-id-3 pre{padding: 0;}#sk-container-id-3 div.sk-toggleable {background-color: white;}#sk-container-id-3 label.sk-toggleable__label {cursor: pointer;display: block;width: 100%;margin-bottom: 0;padding: 0.3em;box-sizing: border-box;text-align: center;}#sk-container-id-3 label.sk-toggleable__label-arrow:before {content: \"▸\";float: left;margin-right: 0.25em;color: #696969;}#sk-container-id-3 label.sk-toggleable__label-arrow:hover:before {color: black;}#sk-container-id-3 div.sk-estimator:hover label.sk-toggleable__label-arrow:before {color: black;}#sk-container-id-3 div.sk-toggleable__content {max-height: 0;max-width: 0;overflow: hidden;text-align: left;background-color: #f0f8ff;}#sk-container-id-3 div.sk-toggleable__content pre {margin: 0.2em;color: black;border-radius: 0.25em;background-color: #f0f8ff;}#sk-container-id-3 input.sk-toggleable__control:checked~div.sk-toggleable__content {max-height: 200px;max-width: 100%;overflow: auto;}#sk-container-id-3 input.sk-toggleable__control:checked~label.sk-toggleable__label-arrow:before {content: \"▾\";}#sk-container-id-3 div.sk-estimator input.sk-toggleable__control:checked~label.sk-toggleable__label {background-color: #d4ebff;}#sk-container-id-3 div.sk-label input.sk-toggleable__control:checked~label.sk-toggleable__label {background-color: #d4ebff;}#sk-container-id-3 input.sk-hidden--visually {border: 0;clip: rect(1px 1px 1px 1px);clip: rect(1px, 1px, 1px, 1px);height: 1px;margin: -1px;overflow: hidden;padding: 0;position: absolute;width: 1px;}#sk-container-id-3 div.sk-estimator {font-family: monospace;background-color: #f0f8ff;border: 1px dotted black;border-radius: 0.25em;box-sizing: border-box;margin-bottom: 0.5em;}#sk-container-id-3 div.sk-estimator:hover {background-color: #d4ebff;}#sk-container-id-3 div.sk-parallel-item::after {content: \"\";width: 100%;border-bottom: 1px solid gray;flex-grow: 1;}#sk-container-id-3 div.sk-label:hover label.sk-toggleable__label {background-color: #d4ebff;}#sk-container-id-3 div.sk-serial::before {content: \"\";position: absolute;border-left: 1px solid gray;box-sizing: border-box;top: 0;bottom: 0;left: 50%;z-index: 0;}#sk-container-id-3 div.sk-serial {display: flex;flex-direction: column;align-items: center;background-color: white;padding-right: 0.2em;padding-left: 0.2em;position: relative;}#sk-container-id-3 div.sk-item {position: relative;z-index: 1;}#sk-container-id-3 div.sk-parallel {display: flex;align-items: stretch;justify-content: center;background-color: white;position: relative;}#sk-container-id-3 div.sk-item::before, #sk-container-id-3 div.sk-parallel-item::before {content: \"\";position: absolute;border-left: 1px solid gray;box-sizing: border-box;top: 0;bottom: 0;left: 50%;z-index: -1;}#sk-container-id-3 div.sk-parallel-item {display: flex;flex-direction: column;z-index: 1;position: relative;background-color: white;}#sk-container-id-3 div.sk-parallel-item:first-child::after {align-self: flex-end;width: 50%;}#sk-container-id-3 div.sk-parallel-item:last-child::after {align-self: flex-start;width: 50%;}#sk-container-id-3 div.sk-parallel-item:only-child::after {width: 0;}#sk-container-id-3 div.sk-dashed-wrapped {border: 1px dashed gray;margin: 0 0.4em 0.5em 0.4em;box-sizing: border-box;padding-bottom: 0.4em;background-color: white;}#sk-container-id-3 div.sk-label label {font-family: monospace;font-weight: bold;display: inline-block;line-height: 1.2em;}#sk-container-id-3 div.sk-label-container {text-align: center;}#sk-container-id-3 div.sk-container {/* jupyter's `normalize.less` sets `[hidden] { display: none; }` but bootstrap.min.css set `[hidden] { display: none !important; }` so we also need the `!important` here to be able to override the default hidden behavior on the sphinx rendered scikit-learn.org. See: https://github.com/scikit-learn/scikit-learn/issues/21755 */display: inline-block !important;position: relative;}#sk-container-id-3 div.sk-text-repr-fallback {display: none;}</style><div id=\"sk-container-id-3\" class=\"sk-top-container\"><div class=\"sk-text-repr-fallback\"><pre>SimpleImputer(strategy=&#x27;most_frequent&#x27;)</pre><b>In a Jupyter environment, please rerun this cell to show the HTML representation or trust the notebook. <br />On GitHub, the HTML representation is unable to render, please try loading this page with nbviewer.org.</b></div><div class=\"sk-container\" hidden><div class=\"sk-item\"><div class=\"sk-estimator sk-toggleable\"><input class=\"sk-toggleable__control sk-hidden--visually\" id=\"sk-estimator-id-3\" type=\"checkbox\" checked><label for=\"sk-estimator-id-3\" class=\"sk-toggleable__label sk-toggleable__label-arrow\">SimpleImputer</label><div class=\"sk-toggleable__content\"><pre>SimpleImputer(strategy=&#x27;most_frequent&#x27;)</pre></div></div></div></div></div>"
            ]
          },
          "metadata": {},
          "execution_count": 46
        }
      ]
    },
    {
      "cell_type": "code",
      "source": [
        "# Transform the training and test categorical features and save as new vars\n",
        "X_train_ord_imputed = impute_most_freq.transform(X_train[ordinal_cols])\n",
        "X_test_ord_imputed = impute_most_freq.transform(X_test[ordinal_cols])\n",
        "\n",
        "# confirm no null values remaining\n",
        "X_train_ord_imputed.isna().sum()"
      ],
      "metadata": {
        "colab": {
          "base_uri": "https://localhost:8080/"
        },
        "outputId": "ddf58656-6c9e-48c8-b48c-2bebafa90952",
        "id": "e68yrG8hqXPY"
      },
      "execution_count": null,
      "outputs": [
        {
          "output_type": "execute_result",
          "data": {
            "text/plain": [
              "shelf    0\n",
              "dtype: int64"
            ]
          },
          "metadata": {},
          "execution_count": 47
        }
      ]
    }
  ]
}